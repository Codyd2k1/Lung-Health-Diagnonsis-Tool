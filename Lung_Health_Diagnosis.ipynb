{
  "nbformat": 4,
  "nbformat_minor": 0,
  "metadata": {
    "colab": {
      "name": "Lung Health Diagnosis.ipynb",
      "provenance": [],
      "collapsed_sections": [],
      "authorship_tag": "ABX9TyPbRKNPTwBwHR+vLy/ssGPT",
      "include_colab_link": true
    },
    "kernelspec": {
      "name": "python3",
      "display_name": "Python 3"
    },
    "language_info": {
      "name": "python"
    }
  },
  "cells": [
    {
      "cell_type": "markdown",
      "metadata": {
        "id": "view-in-github",
        "colab_type": "text"
      },
      "source": [
        "<a href=\"https://colab.research.google.com/github/Codyd2k1/Lung-Health-Diagnonsis-Tool/blob/main/Lung_Health_Diagnosis.ipynb\" target=\"_parent\"><img src=\"https://colab.research.google.com/assets/colab-badge.svg\" alt=\"Open In Colab\"/></a>"
      ]
    },
    {
      "cell_type": "markdown",
      "source": [
        "# **Lung Health Diagnosis Tool**"
      ],
      "metadata": {
        "id": "7gfOVOc6DI-u"
      }
    },
    {
      "cell_type": "markdown",
      "source": [
        "**Importing Data from Competition**"
      ],
      "metadata": {
        "id": "lmvNHUuoDPNT"
      }
    },
    {
      "cell_type": "code",
      "metadata": {
        "id": "VNwveoAnuouB"
      },
      "source": [
        "import numpy as np # linear algebra\n",
        "import pandas as pd # data processing, CSV file I/O (e.g. pd.read_csv)\n",
        "import seaborn as sns\n",
        "from keras.preprocessing.image import load_img, img_to_array, ImageDataGenerator\n",
        "import matplotlib.pyplot as plt\n",
        "import os\n",
        "import shutil\n",
        "import keras_preprocessing\n",
        "from tensorflow.keras.callbacks import EarlyStopping\n",
        "from keras.layers import Dense, Input, Dropout, GlobalAveragePooling2D, Flatten, Conv2D, BatchNormalization, Activation, MaxPooling2D\n",
        "from keras.models import Model, Sequential\n",
        "from keras.optimizers import Adam\n",
        "from sklearn.utils import shuffle\n",
        "import tensorflow as tf\n",
        "from tensorflow import keras\n",
        "from PIL import Image\n",
        "from tempfile import TemporaryFile"
      ],
      "execution_count": null,
      "outputs": []
    },
    {
      "cell_type": "code",
      "metadata": {
        "colab": {
          "base_uri": "https://localhost:8080/"
        },
        "id": "GiQdVy6pDsG1",
        "outputId": "e65864e6-6e6a-4786-e6ff-a638d2d661ef"
      },
      "source": [
        "pip install -q -U keras-tuner"
      ],
      "execution_count": null,
      "outputs": [
        {
          "output_type": "stream",
          "text": [
            "\u001b[?25l\r\u001b[K     |█████▏                          | 10kB 24.4MB/s eta 0:00:01\r\u001b[K     |██████████▍                     | 20kB 30.4MB/s eta 0:00:01\r\u001b[K     |███████████████▋                | 30kB 22.8MB/s eta 0:00:01\r\u001b[K     |████████████████████▉           | 40kB 17.5MB/s eta 0:00:01\r\u001b[K     |██████████████████████████      | 51kB 15.5MB/s eta 0:00:01\r\u001b[K     |███████████████████████████████▎| 61kB 13.8MB/s eta 0:00:01\r\u001b[K     |████████████████████████████████| 71kB 7.0MB/s \n",
            "\u001b[?25h  Building wheel for keras-tuner (setup.py) ... \u001b[?25l\u001b[?25hdone\n",
            "  Building wheel for terminaltables (setup.py) ... \u001b[?25l\u001b[?25hdone\n"
          ],
          "name": "stdout"
        }
      ]
    },
    {
      "cell_type": "code",
      "metadata": {
        "id": "RebOq0D5D04A"
      },
      "source": [
        "import kerastuner as kt"
      ],
      "execution_count": null,
      "outputs": []
    },
    {
      "cell_type": "code",
      "metadata": {
        "colab": {
          "base_uri": "https://localhost:8080/",
          "height": 335
        },
        "id": "IFFEdfMPurrf",
        "outputId": "d6531712-41d6-42fd-8c87-3ebde065ff30"
      },
      "source": [
        "from google.colab import drive\n",
        "drive.mount(\"/content/drive\")"
      ],
      "execution_count": null,
      "outputs": [
        {
          "output_type": "error",
          "ename": "ValueError",
          "evalue": "ignored",
          "traceback": [
            "\u001b[0;31m---------------------------------------------------------------------------\u001b[0m",
            "\u001b[0;31mValueError\u001b[0m                                Traceback (most recent call last)",
            "\u001b[0;32m<ipython-input-3-bf1647b42bbd>\u001b[0m in \u001b[0;36m<module>\u001b[0;34m()\u001b[0m\n\u001b[1;32m      1\u001b[0m \u001b[0;32mfrom\u001b[0m \u001b[0mgoogle\u001b[0m\u001b[0;34m.\u001b[0m\u001b[0mcolab\u001b[0m \u001b[0;32mimport\u001b[0m \u001b[0mdrive\u001b[0m\u001b[0;34m\u001b[0m\u001b[0;34m\u001b[0m\u001b[0m\n\u001b[0;32m----> 2\u001b[0;31m \u001b[0mdrive\u001b[0m\u001b[0;34m.\u001b[0m\u001b[0mmount\u001b[0m\u001b[0;34m(\u001b[0m\u001b[0;34m\"/content/drive\"\u001b[0m\u001b[0;34m)\u001b[0m\u001b[0;34m\u001b[0m\u001b[0;34m\u001b[0m\u001b[0m\n\u001b[0m",
            "\u001b[0;32m/usr/local/lib/python3.7/dist-packages/google/colab/drive.py\u001b[0m in \u001b[0;36mmount\u001b[0;34m(mountpoint, force_remount, timeout_ms, use_metadata_server)\u001b[0m\n\u001b[1;32m    159\u001b[0m       \u001b[0;32mraise\u001b[0m \u001b[0mValueError\u001b[0m\u001b[0;34m(\u001b[0m\u001b[0;34m'Mountpoint must not be a symlink'\u001b[0m\u001b[0;34m)\u001b[0m\u001b[0;34m\u001b[0m\u001b[0;34m\u001b[0m\u001b[0m\n\u001b[1;32m    160\u001b[0m     \u001b[0;32mif\u001b[0m \u001b[0m_os\u001b[0m\u001b[0;34m.\u001b[0m\u001b[0mpath\u001b[0m\u001b[0;34m.\u001b[0m\u001b[0misdir\u001b[0m\u001b[0;34m(\u001b[0m\u001b[0mmountpoint\u001b[0m\u001b[0;34m)\u001b[0m \u001b[0;32mand\u001b[0m \u001b[0m_os\u001b[0m\u001b[0;34m.\u001b[0m\u001b[0mlistdir\u001b[0m\u001b[0;34m(\u001b[0m\u001b[0mmountpoint\u001b[0m\u001b[0;34m)\u001b[0m\u001b[0;34m:\u001b[0m\u001b[0;34m\u001b[0m\u001b[0;34m\u001b[0m\u001b[0m\n\u001b[0;32m--> 161\u001b[0;31m       \u001b[0;32mraise\u001b[0m \u001b[0mValueError\u001b[0m\u001b[0;34m(\u001b[0m\u001b[0;34m'Mountpoint must not already contain files'\u001b[0m\u001b[0;34m)\u001b[0m\u001b[0;34m\u001b[0m\u001b[0;34m\u001b[0m\u001b[0m\n\u001b[0m\u001b[1;32m    162\u001b[0m     \u001b[0;32mif\u001b[0m \u001b[0;32mnot\u001b[0m \u001b[0m_os\u001b[0m\u001b[0;34m.\u001b[0m\u001b[0mpath\u001b[0m\u001b[0;34m.\u001b[0m\u001b[0misdir\u001b[0m\u001b[0;34m(\u001b[0m\u001b[0mmountpoint\u001b[0m\u001b[0;34m)\u001b[0m \u001b[0;32mand\u001b[0m \u001b[0m_os\u001b[0m\u001b[0;34m.\u001b[0m\u001b[0mpath\u001b[0m\u001b[0;34m.\u001b[0m\u001b[0mexists\u001b[0m\u001b[0;34m(\u001b[0m\u001b[0mmountpoint\u001b[0m\u001b[0;34m)\u001b[0m\u001b[0;34m:\u001b[0m\u001b[0;34m\u001b[0m\u001b[0;34m\u001b[0m\u001b[0m\n\u001b[1;32m    163\u001b[0m       \u001b[0;32mraise\u001b[0m \u001b[0mValueError\u001b[0m\u001b[0;34m(\u001b[0m\u001b[0;34m'Mountpoint must either be a directory or not exist'\u001b[0m\u001b[0;34m)\u001b[0m\u001b[0;34m\u001b[0m\u001b[0;34m\u001b[0m\u001b[0m\n",
            "\u001b[0;31mValueError\u001b[0m: Mountpoint must not already contain files"
          ]
        }
      ]
    },
    {
      "cell_type": "code",
      "metadata": {
        "id": "tZjWVM-vuyGf"
      },
      "source": [
        "trainingData = pd.read_csv(\"/content/drive/MyDrive/AS5_Files/assignment5_training_data_metadata.csv\")\n",
        "testingData = pd.read_csv(\"/content/drive/MyDrive/AS5_Files/assignment5_test_data_metadata.csv\")"
      ],
      "execution_count": null,
      "outputs": []
    },
    {
      "cell_type": "code",
      "metadata": {
        "id": "bYX7gMVAvi5V"
      },
      "source": [
        "os.rename(r'/content/drive/MyDrive/AS5_Files/test/all_classes/IM-0021-0001.jpeg',r('/content/drive/MyDrive/AS5_Files/test/all_classes/' + ))"
      ],
      "execution_count": null,
      "outputs": []
    },
    {
      "cell_type": "markdown",
      "source": [
        "**Cleaning & Data Preparation**"
      ],
      "metadata": {
        "id": "0QJrDzigDXpf"
      }
    },
    {
      "cell_type": "code",
      "metadata": {
        "id": "a8dFPTc8t8Ft"
      },
      "source": [
        "#rename the files in testing data to their id's.\n",
        "testDataPath = \"/content/drive/MyDrive/AS5_Files/test/all_classes/\"\n",
        "for i in range(0,testingData.shape[0]):\n",
        "  row = testingData.iloc[i]\n",
        "  tmPath = testDataPath + row.image_name\n",
        "  os.rename(r\"\" + tmPath,r\"\" + testDataPath + str(row.id)+\".jpeg\")"
      ],
      "execution_count": null,
      "outputs": []
    },
    {
      "cell_type": "markdown",
      "metadata": {
        "id": "23OynN0Wc6NK"
      },
      "source": [
        "Because the file Names of the Test Data set identify whether they're normal, bacteria, or virus, i will convert this set into my validation set, to see my actual leaderboard score in this notebook."
      ]
    },
    {
      "cell_type": "code",
      "metadata": {
        "colab": {
          "base_uri": "https://localhost:8080/",
          "height": 198
        },
        "id": "PYlNZNMqdGQz",
        "outputId": "a8f6340c-f6ff-4cb3-97ce-035f99392e95"
      },
      "source": [
        "testingData.head()"
      ],
      "execution_count": null,
      "outputs": [
        {
          "output_type": "execute_result",
          "data": {
            "text/html": [
              "<div>\n",
              "<style scoped>\n",
              "    .dataframe tbody tr th:only-of-type {\n",
              "        vertical-align: middle;\n",
              "    }\n",
              "\n",
              "    .dataframe tbody tr th {\n",
              "        vertical-align: top;\n",
              "    }\n",
              "\n",
              "    .dataframe thead th {\n",
              "        text-align: right;\n",
              "    }\n",
              "</style>\n",
              "<table border=\"1\" class=\"dataframe\">\n",
              "  <thead>\n",
              "    <tr style=\"text-align: right;\">\n",
              "      <th></th>\n",
              "      <th>id</th>\n",
              "      <th>image_name</th>\n",
              "    </tr>\n",
              "  </thead>\n",
              "  <tbody>\n",
              "    <tr>\n",
              "      <th>0</th>\n",
              "      <td>5309</td>\n",
              "      <td>IM-0021-0001.jpeg</td>\n",
              "    </tr>\n",
              "    <tr>\n",
              "      <th>1</th>\n",
              "      <td>5310</td>\n",
              "      <td>IM-0019-0001.jpeg</td>\n",
              "    </tr>\n",
              "    <tr>\n",
              "      <th>2</th>\n",
              "      <td>5311</td>\n",
              "      <td>IM-0017-0001.jpeg</td>\n",
              "    </tr>\n",
              "    <tr>\n",
              "      <th>3</th>\n",
              "      <td>5312</td>\n",
              "      <td>IM-0016-0001.jpeg</td>\n",
              "    </tr>\n",
              "    <tr>\n",
              "      <th>4</th>\n",
              "      <td>5313</td>\n",
              "      <td>IM-0015-0001.jpeg</td>\n",
              "    </tr>\n",
              "  </tbody>\n",
              "</table>\n",
              "</div>"
            ],
            "text/plain": [
              "     id         image_name\n",
              "0  5309  IM-0021-0001.jpeg\n",
              "1  5310  IM-0019-0001.jpeg\n",
              "2  5311  IM-0017-0001.jpeg\n",
              "3  5312  IM-0016-0001.jpeg\n",
              "4  5313  IM-0015-0001.jpeg"
            ]
          },
          "metadata": {
            "tags": []
          },
          "execution_count": 32
        }
      ]
    },
    {
      "cell_type": "code",
      "metadata": {
        "colab": {
          "base_uri": "https://localhost:8080/"
        },
        "id": "UYIXcYMldfN7",
        "outputId": "046b0a29-56a0-4cae-f134-2f76d25ade93"
      },
      "source": [
        "testingData.info()"
      ],
      "execution_count": null,
      "outputs": [
        {
          "output_type": "stream",
          "text": [
            "<class 'pandas.core.frame.DataFrame'>\n",
            "RangeIndex: 624 entries, 0 to 623\n",
            "Data columns (total 2 columns):\n",
            " #   Column      Non-Null Count  Dtype \n",
            "---  ------      --------------  ----- \n",
            " 0   id          624 non-null    int64 \n",
            " 1   image_name  624 non-null    object\n",
            "dtypes: int64(1), object(1)\n",
            "memory usage: 9.9+ KB\n"
          ],
          "name": "stdout"
        }
      ]
    },
    {
      "cell_type": "code",
      "metadata": {
        "colab": {
          "base_uri": "https://localhost:8080/"
        },
        "id": "TEzHC5Uody84",
        "outputId": "130457f6-c499-4b23-ae7c-e6a18b961a83"
      },
      "source": [
        "imgName = \"appbacterialfa\"\n",
        "if \"bacteria\" in imgName:\n",
        "  print(\"yes\")"
      ],
      "execution_count": null,
      "outputs": [
        {
          "output_type": "stream",
          "text": [
            "yes\n"
          ],
          "name": "stdout"
        }
      ]
    },
    {
      "cell_type": "code",
      "metadata": {
        "id": "sNWB2JiTc4Gf"
      },
      "source": [
        "for i in range(0,testingData.shape[0]):\n",
        "  row = testingData.iloc[i]\n",
        "  imgName = str(row.image_name)\n",
        "  if \"virus\" in imgName:\n",
        "    shutil.move((\"/content/drive/MyDrive/AS5_Files/test/all_classes/\" + str(row.id) + \".jpeg\"), ('/content/drive/MyDrive/AS5_Files/test/Virus/' + str(row.id) + \".jpeg\"))\n",
        "  #elif \"NORMAL\" in imgName:\n",
        "  #  shutil.move((\"/content/drive/MyDrive/AS5_Files/test/all_classes/\" + str(row.id) + \".jpeg\"), ('/content/drive/MyDrive/AS5_Files/test/Normal/' + str(row.id) + \".jpeg\"))\n",
        "  #elif \"IM\" in imgName:\n",
        "  #  shutil.move((\"/content/drive/MyDrive/AS5_Files/test/all_classes/\" + str(row.id) + \".jpeg\"), ('/content/drive/MyDrive/AS5_Files/test/Normal/' + str(row.id) + \".jpeg\"))    "
      ],
      "execution_count": null,
      "outputs": []
    },
    {
      "cell_type": "markdown",
      "metadata": {
        "id": "eWkmQvD2El7Q"
      },
      "source": [
        "Normalize Image Data:"
      ]
    },
    {
      "cell_type": "code",
      "metadata": {
        "id": "taxwUT34SKHL"
      },
      "source": [
        "trainingPath = \"/content/drive/MyDrive/AS5_Files/hyperTraining/train/\""
      ],
      "execution_count": null,
      "outputs": []
    },
    {
      "cell_type": "code",
      "metadata": {
        "colab": {
          "base_uri": "https://localhost:8080/"
        },
        "id": "LPX_NVm0H_e5",
        "outputId": "87d05578-14bb-4cb1-ad4a-4f1b231e1eb2"
      },
      "source": [
        "trainingData['type'].isnull().sum()"
      ],
      "execution_count": null,
      "outputs": [
        {
          "output_type": "execute_result",
          "data": {
            "text/plain": [
              "0"
            ]
          },
          "metadata": {
            "tags": []
          },
          "execution_count": 90
        }
      ]
    },
    {
      "cell_type": "code",
      "metadata": {
        "id": "jK7daKw9R10f"
      },
      "source": [
        "trainingData['type'] = trainingData['type'].fillna(1)"
      ],
      "execution_count": null,
      "outputs": []
    },
    {
      "cell_type": "code",
      "metadata": {
        "colab": {
          "base_uri": "https://localhost:8080/"
        },
        "id": "KubhonurSq16",
        "outputId": "bc0b194f-7b13-4983-f72b-16c2acbf531a"
      },
      "source": [
        "trainingData.shape"
      ],
      "execution_count": null,
      "outputs": [
        {
          "output_type": "execute_result",
          "data": {
            "text/plain": [
              "(5286, 5)"
            ]
          },
          "metadata": {
            "tags": []
          },
          "execution_count": 12
        }
      ]
    },
    {
      "cell_type": "markdown",
      "metadata": {
        "id": "1xyAjVmO2nso"
      },
      "source": [
        "Splitting Training Data into \"Training\" and \"Validation\" sets:"
      ]
    },
    {
      "cell_type": "code",
      "metadata": {
        "id": "dMu05Gse2wvy"
      },
      "source": [
        "originalData = trainingData\n",
        "originalData = originalData.sample(frac = 1, random_state= 42) "
      ],
      "execution_count": null,
      "outputs": []
    },
    {
      "cell_type": "code",
      "metadata": {
        "colab": {
          "base_uri": "https://localhost:8080/"
        },
        "id": "wV-mFOzSKapO",
        "outputId": "6ffd2218-42b4-43dc-de04-431bbad053d2"
      },
      "source": [
        "trainingData.shape"
      ],
      "execution_count": null,
      "outputs": [
        {
          "output_type": "execute_result",
          "data": {
            "text/plain": [
              "(5286, 5)"
            ]
          },
          "metadata": {
            "tags": []
          },
          "execution_count": 11
        }
      ]
    },
    {
      "cell_type": "code",
      "metadata": {
        "id": "itu37rnm4gIf"
      },
      "source": [
        "trainingSet = originalData.iloc[:4758,:]\n",
        "validationSet = originalData.iloc[4759:,:]"
      ],
      "execution_count": null,
      "outputs": []
    },
    {
      "cell_type": "code",
      "metadata": {
        "id": "Zwm3TkAjmBM9"
      },
      "source": [
        "trainingSet = trainingData"
      ],
      "execution_count": null,
      "outputs": []
    },
    {
      "cell_type": "markdown",
      "metadata": {
        "id": "j8q6PJ8I7S4j"
      },
      "source": [
        "Now that we have the data for our validation set and our training set, we want to move the data associated with each set into each folder (training and Validation)."
      ]
    },
    {
      "cell_type": "code",
      "metadata": {
        "id": "V4jAWwlY7tFf"
      },
      "source": [
        "def move_items_to_proper_folder(dataset, setName):\n",
        "  for i in range(0,dataset.shape[0]):\n",
        "    item = dataset.iloc[i]\n",
        "    shutil.move((\"/content/drive/MyDrive/AS5_Files/train/\" + item.image_name), ('/content/drive/MyDrive/AS5_Files/' + setName + \"/\" + item.image_name))"
      ],
      "execution_count": null,
      "outputs": []
    },
    {
      "cell_type": "code",
      "metadata": {
        "id": "XTuh67fX80zw"
      },
      "source": [
        "move_items_to_proper_folder(validationSet, \"Validation\")"
      ],
      "execution_count": null,
      "outputs": []
    },
    {
      "cell_type": "markdown",
      "metadata": {
        "id": "00afrTYG9GG9"
      },
      "source": [
        "Now we have the data split into proper directories, we need to split the directories into pnemonia/normal class folders."
      ]
    },
    {
      "cell_type": "code",
      "metadata": {
        "id": "3Fzikba_9fY9"
      },
      "source": [
        "def move_items_to_proper_subFolder(dataSet, setName):\n",
        "  if setName == \"Validation\":\n",
        "    tmpPath = \"/content/drive/MyDrive/AS5_Files/Validation\"\n",
        "  elif setName == \"train\":\n",
        "    tmpPath = \"/content/drive/MyDrive/AS5_Files/hyperTraining/train\"\n",
        "  for i in range(0, dataSet.shape[0]):\n",
        "    item = dataSet.iloc[i]\n",
        "    if item.type == \"bacteria\":\n",
        "      shutil.move((tmpPath + \"/\" + item.image_name), (tmpPath + \"/Bacteria/\" + item.image_name))\n",
        "    elif item.type == \"Virus\":\n",
        "      shutil.move((tmpPath + \"/\" + item.image_name), (tmpPath + \"/Virus/\" + item.image_name))\n",
        "    elif item.label == \"Normal\":\n",
        "      shutil.move((tmpPath + \"/\" + item.image_name), (tmpPath + \"/Normal/\" + item.image_name))\n",
        "    else:\n",
        "      continue"
      ],
      "execution_count": null,
      "outputs": []
    },
    {
      "cell_type": "code",
      "metadata": {
        "id": "5urTqqTL_ZAA"
      },
      "source": [
        "move_items_to_proper_subFolder(validationSet, \"Validation\")"
      ],
      "execution_count": null,
      "outputs": []
    },
    {
      "cell_type": "code",
      "metadata": {
        "id": "HlpLrxsGC3EJ"
      },
      "source": [
        "move_items_to_proper_subFolder(trainingSet, \"train\")"
      ],
      "execution_count": null,
      "outputs": []
    },
    {
      "cell_type": "markdown",
      "source": [
        "**Building & Training Neural Network**"
      ],
      "metadata": {
        "id": "c66uTpEfDk3p"
      }
    },
    {
      "cell_type": "markdown",
      "metadata": {
        "id": "6MUytZq5F-U1"
      },
      "source": [
        "Preparing for CNN Model with Keras:"
      ]
    },
    {
      "cell_type": "code",
      "metadata": {
        "id": "6LRN-J_VGCCt"
      },
      "source": [
        "training_Path = \"/content/drive/MyDrive/AS5_Files/hyperTraining/train\"\n",
        "validation_Path = \"/content/drive/MyDrive/AS5_Files/test\"\n",
        "testing_Path = \"/content/drive/MyDrive/AS5_Files/test\"\n",
        "small_training_path = \"/content/drive/MyDrive/AS5_Files/small_training_batch\""
      ],
      "execution_count": null,
      "outputs": []
    },
    {
      "cell_type": "markdown",
      "metadata": {
        "id": "mQiBHMzJG8zn"
      },
      "source": [
        "    Set up IMG Generator Batches"
      ]
    },
    {
      "cell_type": "code",
      "metadata": {
        "colab": {
          "base_uri": "https://localhost:8080/"
        },
        "id": "QofsFjcYG70v",
        "outputId": "4bbef3a8-0967-4c5a-ddd1-7196f94ca63c"
      },
      "source": [
        "training_Batches = ImageDataGenerator(rescale =1. / 255,\n",
        "                                      rotation_range=15,\n",
        "                                      shear_range=0.2,\n",
        "                                      zoom_range=0.2).flow_from_directory(training_Path, target_size = (192,192), classes=['Normal', 'Virus','Bacteria'], batch_size = 50, color_mode = \"rgb\", shuffle= True, seed=42)\n",
        "validation_Batches = ImageDataGenerator().flow_from_directory(validation_Path, target_size = (192,192), classes=['Normal', 'Virus','Bacteria'], batch_size = 50, color_mode = \"rgb\", seed=42)"
      ],
      "execution_count": null,
      "outputs": [
        {
          "output_type": "stream",
          "text": [
            "Found 5284 images belonging to 3 classes.\n",
            "Found 624 images belonging to 3 classes.\n"
          ],
          "name": "stdout"
        }
      ]
    },
    {
      "cell_type": "code",
      "metadata": {
        "colab": {
          "base_uri": "https://localhost:8080/"
        },
        "id": "g90vHg7HsdxA",
        "outputId": "4460405a-c391-484f-8f2d-d68cb21fd3d7"
      },
      "source": [
        "testing_Batches = ImageDataGenerator(rescale =1. / 255).flow_from_directory(testing_Path, target_size = (192,192), batch_size = 50, color_mode = \"rgb\", shuffle = False, seed = 42)"
      ],
      "execution_count": null,
      "outputs": [
        {
          "output_type": "stream",
          "text": [
            "Found 624 images belonging to 4 classes.\n"
          ],
          "name": "stdout"
        }
      ]
    },
    {
      "cell_type": "code",
      "metadata": {
        "colab": {
          "base_uri": "https://localhost:8080/"
        },
        "id": "9Vra9fOjo8Hx",
        "outputId": "c7fe4653-bb7a-49f7-92bb-ec7e024002b8"
      },
      "source": [
        "small_training_batch = ImageDataGenerator().flow_from_directory(small_training_path, target_size = (192,192), classes=['Bacteria','Normal', 'Virus'], batch_size = 3, color_mode = \"rgb\", seed = 42)"
      ],
      "execution_count": null,
      "outputs": [
        {
          "output_type": "stream",
          "text": [
            "Found 9 images belonging to 3 classes.\n"
          ],
          "name": "stdout"
        }
      ]
    },
    {
      "cell_type": "code",
      "metadata": {
        "id": "YBiotz1vMWEM"
      },
      "source": [
        "\n",
        "def model_builder(hp):\n",
        "  model = keras.Sequential()\n",
        "  model.add(Conv2D(32,(3,3), input_shape = (192,192,3), activation='relu'))#, activation='relu'))\n",
        "  model.add(\n",
        "      Conv2D(\n",
        "      filters = hp.Int('convfilter1val',\n",
        "                         min_value = 64, max_value = 128, step = 32),\n",
        "                         kernel_size = (3,3),\n",
        "                         activation='relu'))\n",
        "  model.add(MaxPooling2D(pool_size=(2,2)))\n",
        "  model.add(\n",
        "      Dropout(rate = hp.Float(\n",
        "          'dropoutVal1',\n",
        "          min_value = 0.0,\n",
        "          max_value = 0.5,\n",
        "          default = 0.25,\n",
        "          step = 0.05\n",
        "      )    \n",
        "      ))\n",
        "  model.add(Flatten())\n",
        "  model.add(\n",
        "      Dense(\n",
        "      units = hp.Int(\n",
        "          'unitVal1',\n",
        "          min_value = 32,\n",
        "          max_value = 512,\n",
        "          step = 32,\n",
        "          default = 64\n",
        "      ),activation='relu'))\n",
        "  model.add(\n",
        "      Dropout(rate = hp.Float(\n",
        "          'dropoutVal2',\n",
        "          min_value = 0.0,\n",
        "          max_value = 0.5,\n",
        "          default = 0.25,\n",
        "          step = 0.05\n",
        "      )    \n",
        "      ))\n",
        "  model.add(Dense(3,activation=\"softmax\"))\n",
        "  # Tune the number of units in the first Dense layer\n",
        "  # Choose an optimal value between 32-512\n",
        "  #hp_units = hp.Int('units', min_value=32, max_value=512, step=32)\n",
        "  #model.add(keras.layers.Dense(units=hp_units, activation='relu'))\n",
        "  #model.add(keras.layers.Dense(3))\n",
        "\n",
        "  # Tune the learning rate for the optimizer\n",
        "  # Choose an optimal value from 0.01, 0.001, or 0.0001\n",
        "  hp_learning_rate = hp.Choice('learning_rate', values=[1e-2, 1e-3, 1e-4])\n",
        "\n",
        "  model.compile(optimizer=keras.optimizers.Adam(learning_rate=hp_learning_rate),\n",
        "                loss= 'categorical_crossentropy',\n",
        "                metrics=['accuracy'])\n",
        "\n",
        "  return model\n",
        "\n"
      ],
      "execution_count": null,
      "outputs": []
    },
    {
      "cell_type": "code",
      "metadata": {
        "id": "Y1Pg951JMtOG"
      },
      "source": [
        "tuner = kt.Hyperband(model_builder,\n",
        "                     objective='val_accuracy',\n",
        "                     max_epochs=10,\n",
        "                     factor=3,\n",
        "                     seed = 42,\n",
        "                     directory=\"/content/drive/MyDrive/AS5_Files/\",\n",
        "                     project_name= \"untitled_project\"\n",
        "                    )"
      ],
      "execution_count": null,
      "outputs": []
    },
    {
      "cell_type": "code",
      "metadata": {
        "id": "01a0sMDTHIlK"
      },
      "source": [
        "eStopper = EarlyStopping(monitor = 'val_loss', mode = 'min', verbose=1, patience=5)"
      ],
      "execution_count": null,
      "outputs": []
    },
    {
      "cell_type": "code",
      "metadata": {
        "colab": {
          "base_uri": "https://localhost:8080/",
          "height": 887
        },
        "id": "RB47gyrQNO1u",
        "outputId": "da857b2c-d609-4e91-c20b-f30ffb2d61ed"
      },
      "source": [
        "tuner.search(training_Batches, steps_per_epoch = 12, validation_data = validation_Batches, callbacks=[eStopper], epochs = 10)"
      ],
      "execution_count": null,
      "outputs": [
        {
          "output_type": "stream",
          "text": [
            "Trial 23 Complete [00h 05m 08s]\n",
            "val_accuracy: 0.6153846383094788\n",
            "\n",
            "Best val_accuracy So Far: 0.6634615659713745\n",
            "Total elapsed time: 01h 17m 32s\n",
            "\n",
            "Search: Running Trial #24\n",
            "\n",
            "Hyperparameter    |Value             |Best Value So Far \n",
            "convfilter1val    |64                |64                \n",
            "dropoutVal1       |0.45              |0.5               \n",
            "unitVal1          |320               |480               \n",
            "dropoutVal2       |0.25              |0.45              \n",
            "learning_rate     |0.001             |0.0001            \n",
            "tuner/epochs      |4                 |4                 \n",
            "tuner/initial_e...|0                 |0                 \n",
            "tuner/bracket     |1                 |1                 \n",
            "tuner/round       |0                 |0                 \n",
            "\n",
            "Epoch 1/4\n",
            "12/12 [==============================] - 31s 3s/step - loss: 18.9885 - accuracy: 0.4589 - val_loss: 87.9731 - val_accuracy: 0.3910\n",
            "Epoch 2/4\n",
            "12/12 [==============================] - 25s 2s/step - loss: 1.0330 - accuracy: 0.5233 - val_loss: 112.0136 - val_accuracy: 0.4968\n",
            "Epoch 3/4\n",
            "12/12 [==============================] - 21s 2s/step - loss: 0.9218 - accuracy: 0.5743 - val_loss: 62.1615 - val_accuracy: 0.6458\n"
          ],
          "name": "stdout"
        },
        {
          "output_type": "error",
          "ename": "NotFoundError",
          "evalue": "ignored",
          "traceback": [
            "\u001b[0;31m---------------------------------------------------------------------------\u001b[0m",
            "\u001b[0;31mNotFoundError\u001b[0m                             Traceback (most recent call last)",
            "\u001b[0;32m<ipython-input-100-6f41018c1bf6>\u001b[0m in \u001b[0;36m<module>\u001b[0;34m()\u001b[0m\n\u001b[0;32m----> 1\u001b[0;31m \u001b[0mtuner\u001b[0m\u001b[0;34m.\u001b[0m\u001b[0msearch\u001b[0m\u001b[0;34m(\u001b[0m\u001b[0mtraining_Batches\u001b[0m\u001b[0;34m,\u001b[0m \u001b[0msteps_per_epoch\u001b[0m \u001b[0;34m=\u001b[0m \u001b[0;36m12\u001b[0m\u001b[0;34m,\u001b[0m \u001b[0mvalidation_data\u001b[0m \u001b[0;34m=\u001b[0m \u001b[0mvalidation_Batches\u001b[0m\u001b[0;34m,\u001b[0m \u001b[0mcallbacks\u001b[0m\u001b[0;34m=\u001b[0m\u001b[0;34m[\u001b[0m\u001b[0meStopper\u001b[0m\u001b[0;34m]\u001b[0m\u001b[0;34m,\u001b[0m \u001b[0mepochs\u001b[0m \u001b[0;34m=\u001b[0m \u001b[0;36m10\u001b[0m\u001b[0;34m)\u001b[0m\u001b[0;34m\u001b[0m\u001b[0;34m\u001b[0m\u001b[0m\n\u001b[0m",
            "\u001b[0;32m/usr/local/lib/python3.7/dist-packages/kerastuner/engine/base_tuner.py\u001b[0m in \u001b[0;36msearch\u001b[0;34m(self, *fit_args, **fit_kwargs)\u001b[0m\n\u001b[1;32m    129\u001b[0m \u001b[0;34m\u001b[0m\u001b[0m\n\u001b[1;32m    130\u001b[0m             \u001b[0mself\u001b[0m\u001b[0;34m.\u001b[0m\u001b[0mon_trial_begin\u001b[0m\u001b[0;34m(\u001b[0m\u001b[0mtrial\u001b[0m\u001b[0;34m)\u001b[0m\u001b[0;34m\u001b[0m\u001b[0;34m\u001b[0m\u001b[0m\n\u001b[0;32m--> 131\u001b[0;31m             \u001b[0mself\u001b[0m\u001b[0;34m.\u001b[0m\u001b[0mrun_trial\u001b[0m\u001b[0;34m(\u001b[0m\u001b[0mtrial\u001b[0m\u001b[0;34m,\u001b[0m \u001b[0;34m*\u001b[0m\u001b[0mfit_args\u001b[0m\u001b[0;34m,\u001b[0m \u001b[0;34m**\u001b[0m\u001b[0mfit_kwargs\u001b[0m\u001b[0;34m)\u001b[0m\u001b[0;34m\u001b[0m\u001b[0;34m\u001b[0m\u001b[0m\n\u001b[0m\u001b[1;32m    132\u001b[0m             \u001b[0mself\u001b[0m\u001b[0;34m.\u001b[0m\u001b[0mon_trial_end\u001b[0m\u001b[0;34m(\u001b[0m\u001b[0mtrial\u001b[0m\u001b[0;34m)\u001b[0m\u001b[0;34m\u001b[0m\u001b[0;34m\u001b[0m\u001b[0m\n\u001b[1;32m    133\u001b[0m         \u001b[0mself\u001b[0m\u001b[0;34m.\u001b[0m\u001b[0mon_search_end\u001b[0m\u001b[0;34m(\u001b[0m\u001b[0;34m)\u001b[0m\u001b[0;34m\u001b[0m\u001b[0;34m\u001b[0m\u001b[0m\n",
            "\u001b[0;32m/usr/local/lib/python3.7/dist-packages/kerastuner/tuners/hyperband.py\u001b[0m in \u001b[0;36mrun_trial\u001b[0;34m(self, trial, *fit_args, **fit_kwargs)\u001b[0m\n\u001b[1;32m    352\u001b[0m             \u001b[0mfit_kwargs\u001b[0m\u001b[0;34m[\u001b[0m\u001b[0;34m'epochs'\u001b[0m\u001b[0;34m]\u001b[0m \u001b[0;34m=\u001b[0m \u001b[0mhp\u001b[0m\u001b[0;34m.\u001b[0m\u001b[0mvalues\u001b[0m\u001b[0;34m[\u001b[0m\u001b[0;34m'tuner/epochs'\u001b[0m\u001b[0;34m]\u001b[0m\u001b[0;34m\u001b[0m\u001b[0;34m\u001b[0m\u001b[0m\n\u001b[1;32m    353\u001b[0m             \u001b[0mfit_kwargs\u001b[0m\u001b[0;34m[\u001b[0m\u001b[0;34m'initial_epoch'\u001b[0m\u001b[0;34m]\u001b[0m \u001b[0;34m=\u001b[0m \u001b[0mhp\u001b[0m\u001b[0;34m.\u001b[0m\u001b[0mvalues\u001b[0m\u001b[0;34m[\u001b[0m\u001b[0;34m'tuner/initial_epoch'\u001b[0m\u001b[0;34m]\u001b[0m\u001b[0;34m\u001b[0m\u001b[0;34m\u001b[0m\u001b[0m\n\u001b[0;32m--> 354\u001b[0;31m         \u001b[0msuper\u001b[0m\u001b[0;34m(\u001b[0m\u001b[0mHyperband\u001b[0m\u001b[0;34m,\u001b[0m \u001b[0mself\u001b[0m\u001b[0;34m)\u001b[0m\u001b[0;34m.\u001b[0m\u001b[0mrun_trial\u001b[0m\u001b[0;34m(\u001b[0m\u001b[0mtrial\u001b[0m\u001b[0;34m,\u001b[0m \u001b[0;34m*\u001b[0m\u001b[0mfit_args\u001b[0m\u001b[0;34m,\u001b[0m \u001b[0;34m**\u001b[0m\u001b[0mfit_kwargs\u001b[0m\u001b[0;34m)\u001b[0m\u001b[0;34m\u001b[0m\u001b[0;34m\u001b[0m\u001b[0m\n\u001b[0m\u001b[1;32m    355\u001b[0m \u001b[0;34m\u001b[0m\u001b[0m\n\u001b[1;32m    356\u001b[0m     \u001b[0;32mdef\u001b[0m \u001b[0m_build_model\u001b[0m\u001b[0;34m(\u001b[0m\u001b[0mself\u001b[0m\u001b[0;34m,\u001b[0m \u001b[0mhp\u001b[0m\u001b[0;34m)\u001b[0m\u001b[0;34m:\u001b[0m\u001b[0;34m\u001b[0m\u001b[0;34m\u001b[0m\u001b[0m\n",
            "\u001b[0;32m/usr/local/lib/python3.7/dist-packages/kerastuner/engine/multi_execution_tuner.py\u001b[0m in \u001b[0;36mrun_trial\u001b[0;34m(self, trial, *fit_args, **fit_kwargs)\u001b[0m\n\u001b[1;32m     94\u001b[0m             \u001b[0mcopied_fit_kwargs\u001b[0m\u001b[0;34m[\u001b[0m\u001b[0;34m'callbacks'\u001b[0m\u001b[0;34m]\u001b[0m \u001b[0;34m=\u001b[0m \u001b[0mcallbacks\u001b[0m\u001b[0;34m\u001b[0m\u001b[0;34m\u001b[0m\u001b[0m\n\u001b[1;32m     95\u001b[0m \u001b[0;34m\u001b[0m\u001b[0m\n\u001b[0;32m---> 96\u001b[0;31m             \u001b[0mhistory\u001b[0m \u001b[0;34m=\u001b[0m \u001b[0mself\u001b[0m\u001b[0;34m.\u001b[0m\u001b[0m_build_and_fit_model\u001b[0m\u001b[0;34m(\u001b[0m\u001b[0mtrial\u001b[0m\u001b[0;34m,\u001b[0m \u001b[0mfit_args\u001b[0m\u001b[0;34m,\u001b[0m \u001b[0mcopied_fit_kwargs\u001b[0m\u001b[0;34m)\u001b[0m\u001b[0;34m\u001b[0m\u001b[0;34m\u001b[0m\u001b[0m\n\u001b[0m\u001b[1;32m     97\u001b[0m             \u001b[0;32mfor\u001b[0m \u001b[0mmetric\u001b[0m\u001b[0;34m,\u001b[0m \u001b[0mepoch_values\u001b[0m \u001b[0;32min\u001b[0m \u001b[0mhistory\u001b[0m\u001b[0;34m.\u001b[0m\u001b[0mhistory\u001b[0m\u001b[0;34m.\u001b[0m\u001b[0mitems\u001b[0m\u001b[0;34m(\u001b[0m\u001b[0;34m)\u001b[0m\u001b[0;34m:\u001b[0m\u001b[0;34m\u001b[0m\u001b[0;34m\u001b[0m\u001b[0m\n\u001b[1;32m     98\u001b[0m                 \u001b[0;32mif\u001b[0m \u001b[0mself\u001b[0m\u001b[0;34m.\u001b[0m\u001b[0moracle\u001b[0m\u001b[0;34m.\u001b[0m\u001b[0mobjective\u001b[0m\u001b[0;34m.\u001b[0m\u001b[0mdirection\u001b[0m \u001b[0;34m==\u001b[0m \u001b[0;34m'min'\u001b[0m\u001b[0;34m:\u001b[0m\u001b[0;34m\u001b[0m\u001b[0;34m\u001b[0m\u001b[0m\n",
            "\u001b[0;32m/usr/local/lib/python3.7/dist-packages/kerastuner/engine/tuner.py\u001b[0m in \u001b[0;36m_build_and_fit_model\u001b[0;34m(self, trial, fit_args, fit_kwargs)\u001b[0m\n\u001b[1;32m    139\u001b[0m         \"\"\"\n\u001b[1;32m    140\u001b[0m         \u001b[0mmodel\u001b[0m \u001b[0;34m=\u001b[0m \u001b[0mself\u001b[0m\u001b[0;34m.\u001b[0m\u001b[0mhypermodel\u001b[0m\u001b[0;34m.\u001b[0m\u001b[0mbuild\u001b[0m\u001b[0;34m(\u001b[0m\u001b[0mtrial\u001b[0m\u001b[0;34m.\u001b[0m\u001b[0mhyperparameters\u001b[0m\u001b[0;34m)\u001b[0m\u001b[0;34m\u001b[0m\u001b[0;34m\u001b[0m\u001b[0m\n\u001b[0;32m--> 141\u001b[0;31m         \u001b[0;32mreturn\u001b[0m \u001b[0mmodel\u001b[0m\u001b[0;34m.\u001b[0m\u001b[0mfit\u001b[0m\u001b[0;34m(\u001b[0m\u001b[0;34m*\u001b[0m\u001b[0mfit_args\u001b[0m\u001b[0;34m,\u001b[0m \u001b[0;34m**\u001b[0m\u001b[0mfit_kwargs\u001b[0m\u001b[0;34m)\u001b[0m\u001b[0;34m\u001b[0m\u001b[0;34m\u001b[0m\u001b[0m\n\u001b[0m\u001b[1;32m    142\u001b[0m \u001b[0;34m\u001b[0m\u001b[0m\n\u001b[1;32m    143\u001b[0m     \u001b[0;32mdef\u001b[0m \u001b[0mrun_trial\u001b[0m\u001b[0;34m(\u001b[0m\u001b[0mself\u001b[0m\u001b[0;34m,\u001b[0m \u001b[0mtrial\u001b[0m\u001b[0;34m,\u001b[0m \u001b[0;34m*\u001b[0m\u001b[0mfit_args\u001b[0m\u001b[0;34m,\u001b[0m \u001b[0;34m**\u001b[0m\u001b[0mfit_kwargs\u001b[0m\u001b[0;34m)\u001b[0m\u001b[0;34m:\u001b[0m\u001b[0;34m\u001b[0m\u001b[0;34m\u001b[0m\u001b[0m\n",
            "\u001b[0;32m/usr/local/lib/python3.7/dist-packages/tensorflow/python/keras/engine/training.py\u001b[0m in \u001b[0;36mfit\u001b[0;34m(self, x, y, batch_size, epochs, verbose, callbacks, validation_split, validation_data, shuffle, class_weight, sample_weight, initial_epoch, steps_per_epoch, validation_steps, validation_batch_size, validation_freq, max_queue_size, workers, use_multiprocessing)\u001b[0m\n\u001b[1;32m   1143\u001b[0m           \u001b[0mepoch_logs\u001b[0m\u001b[0;34m.\u001b[0m\u001b[0mupdate\u001b[0m\u001b[0;34m(\u001b[0m\u001b[0mval_logs\u001b[0m\u001b[0;34m)\u001b[0m\u001b[0;34m\u001b[0m\u001b[0;34m\u001b[0m\u001b[0m\n\u001b[1;32m   1144\u001b[0m \u001b[0;34m\u001b[0m\u001b[0m\n\u001b[0;32m-> 1145\u001b[0;31m         \u001b[0mcallbacks\u001b[0m\u001b[0;34m.\u001b[0m\u001b[0mon_epoch_end\u001b[0m\u001b[0;34m(\u001b[0m\u001b[0mepoch\u001b[0m\u001b[0;34m,\u001b[0m \u001b[0mepoch_logs\u001b[0m\u001b[0;34m)\u001b[0m\u001b[0;34m\u001b[0m\u001b[0;34m\u001b[0m\u001b[0m\n\u001b[0m\u001b[1;32m   1146\u001b[0m         \u001b[0mtraining_logs\u001b[0m \u001b[0;34m=\u001b[0m \u001b[0mepoch_logs\u001b[0m\u001b[0;34m\u001b[0m\u001b[0;34m\u001b[0m\u001b[0m\n\u001b[1;32m   1147\u001b[0m         \u001b[0;32mif\u001b[0m \u001b[0mself\u001b[0m\u001b[0;34m.\u001b[0m\u001b[0mstop_training\u001b[0m\u001b[0;34m:\u001b[0m\u001b[0;34m\u001b[0m\u001b[0;34m\u001b[0m\u001b[0m\n",
            "\u001b[0;32m/usr/local/lib/python3.7/dist-packages/tensorflow/python/keras/callbacks.py\u001b[0m in \u001b[0;36mon_epoch_end\u001b[0;34m(self, epoch, logs)\u001b[0m\n\u001b[1;32m    426\u001b[0m     \u001b[0;32mfor\u001b[0m \u001b[0mcallback\u001b[0m \u001b[0;32min\u001b[0m \u001b[0mself\u001b[0m\u001b[0;34m.\u001b[0m\u001b[0mcallbacks\u001b[0m\u001b[0;34m:\u001b[0m\u001b[0;34m\u001b[0m\u001b[0;34m\u001b[0m\u001b[0m\n\u001b[1;32m    427\u001b[0m       \u001b[0;32mif\u001b[0m \u001b[0mgetattr\u001b[0m\u001b[0;34m(\u001b[0m\u001b[0mcallback\u001b[0m\u001b[0;34m,\u001b[0m \u001b[0;34m'_supports_tf_logs'\u001b[0m\u001b[0;34m,\u001b[0m \u001b[0;32mFalse\u001b[0m\u001b[0;34m)\u001b[0m\u001b[0;34m:\u001b[0m\u001b[0;34m\u001b[0m\u001b[0;34m\u001b[0m\u001b[0m\n\u001b[0;32m--> 428\u001b[0;31m         \u001b[0mcallback\u001b[0m\u001b[0;34m.\u001b[0m\u001b[0mon_epoch_end\u001b[0m\u001b[0;34m(\u001b[0m\u001b[0mepoch\u001b[0m\u001b[0;34m,\u001b[0m \u001b[0mlogs\u001b[0m\u001b[0;34m)\u001b[0m\u001b[0;34m\u001b[0m\u001b[0;34m\u001b[0m\u001b[0m\n\u001b[0m\u001b[1;32m    429\u001b[0m       \u001b[0;32melse\u001b[0m\u001b[0;34m:\u001b[0m\u001b[0;34m\u001b[0m\u001b[0;34m\u001b[0m\u001b[0m\n\u001b[1;32m    430\u001b[0m         \u001b[0;32mif\u001b[0m \u001b[0mnumpy_logs\u001b[0m \u001b[0;32mis\u001b[0m \u001b[0;32mNone\u001b[0m\u001b[0;34m:\u001b[0m  \u001b[0;31m# Only convert once.\u001b[0m\u001b[0;34m\u001b[0m\u001b[0;34m\u001b[0m\u001b[0m\n",
            "\u001b[0;32m/usr/local/lib/python3.7/dist-packages/tensorflow/python/keras/callbacks.py\u001b[0m in \u001b[0;36mon_epoch_end\u001b[0;34m(self, epoch, logs)\u001b[0m\n\u001b[1;32m   1342\u001b[0m     \u001b[0;31m# pylint: disable=protected-access\u001b[0m\u001b[0;34m\u001b[0m\u001b[0;34m\u001b[0m\u001b[0;34m\u001b[0m\u001b[0m\n\u001b[1;32m   1343\u001b[0m     \u001b[0;32mif\u001b[0m \u001b[0mself\u001b[0m\u001b[0;34m.\u001b[0m\u001b[0msave_freq\u001b[0m \u001b[0;34m==\u001b[0m \u001b[0;34m'epoch'\u001b[0m\u001b[0;34m:\u001b[0m\u001b[0;34m\u001b[0m\u001b[0;34m\u001b[0m\u001b[0m\n\u001b[0;32m-> 1344\u001b[0;31m       \u001b[0mself\u001b[0m\u001b[0;34m.\u001b[0m\u001b[0m_save_model\u001b[0m\u001b[0;34m(\u001b[0m\u001b[0mepoch\u001b[0m\u001b[0;34m=\u001b[0m\u001b[0mepoch\u001b[0m\u001b[0;34m,\u001b[0m \u001b[0mlogs\u001b[0m\u001b[0;34m=\u001b[0m\u001b[0mlogs\u001b[0m\u001b[0;34m)\u001b[0m\u001b[0;34m\u001b[0m\u001b[0;34m\u001b[0m\u001b[0m\n\u001b[0m\u001b[1;32m   1345\u001b[0m \u001b[0;34m\u001b[0m\u001b[0m\n\u001b[1;32m   1346\u001b[0m   \u001b[0;32mdef\u001b[0m \u001b[0m_should_save_on_batch\u001b[0m\u001b[0;34m(\u001b[0m\u001b[0mself\u001b[0m\u001b[0;34m,\u001b[0m \u001b[0mbatch\u001b[0m\u001b[0;34m)\u001b[0m\u001b[0;34m:\u001b[0m\u001b[0;34m\u001b[0m\u001b[0;34m\u001b[0m\u001b[0m\n",
            "\u001b[0;32m/usr/local/lib/python3.7/dist-packages/tensorflow/python/keras/callbacks.py\u001b[0m in \u001b[0;36m_save_model\u001b[0;34m(self, epoch, logs)\u001b[0m\n\u001b[1;32m   1392\u001b[0m               \u001b[0;32mif\u001b[0m \u001b[0mself\u001b[0m\u001b[0;34m.\u001b[0m\u001b[0msave_weights_only\u001b[0m\u001b[0;34m:\u001b[0m\u001b[0;34m\u001b[0m\u001b[0;34m\u001b[0m\u001b[0m\n\u001b[1;32m   1393\u001b[0m                 self.model.save_weights(\n\u001b[0;32m-> 1394\u001b[0;31m                     filepath, overwrite=True, options=self._options)\n\u001b[0m\u001b[1;32m   1395\u001b[0m               \u001b[0;32melse\u001b[0m\u001b[0;34m:\u001b[0m\u001b[0;34m\u001b[0m\u001b[0;34m\u001b[0m\u001b[0m\n\u001b[1;32m   1396\u001b[0m                 \u001b[0mself\u001b[0m\u001b[0;34m.\u001b[0m\u001b[0mmodel\u001b[0m\u001b[0;34m.\u001b[0m\u001b[0msave\u001b[0m\u001b[0;34m(\u001b[0m\u001b[0mfilepath\u001b[0m\u001b[0;34m,\u001b[0m \u001b[0moverwrite\u001b[0m\u001b[0;34m=\u001b[0m\u001b[0;32mTrue\u001b[0m\u001b[0;34m,\u001b[0m \u001b[0moptions\u001b[0m\u001b[0;34m=\u001b[0m\u001b[0mself\u001b[0m\u001b[0;34m.\u001b[0m\u001b[0m_options\u001b[0m\u001b[0;34m)\u001b[0m\u001b[0;34m\u001b[0m\u001b[0;34m\u001b[0m\u001b[0m\n",
            "\u001b[0;32m/usr/local/lib/python3.7/dist-packages/tensorflow/python/keras/engine/training.py\u001b[0m in \u001b[0;36msave_weights\u001b[0;34m(self, filepath, overwrite, save_format, options)\u001b[0m\n\u001b[1;32m   2122\u001b[0m              'saved.\\n\\nConsider using a TensorFlow optimizer from `tf.train`.')\n\u001b[1;32m   2123\u001b[0m             % (optimizer,))\n\u001b[0;32m-> 2124\u001b[0;31m       \u001b[0mself\u001b[0m\u001b[0;34m.\u001b[0m\u001b[0m_trackable_saver\u001b[0m\u001b[0;34m.\u001b[0m\u001b[0msave\u001b[0m\u001b[0;34m(\u001b[0m\u001b[0mfilepath\u001b[0m\u001b[0;34m,\u001b[0m \u001b[0msession\u001b[0m\u001b[0;34m=\u001b[0m\u001b[0msession\u001b[0m\u001b[0;34m,\u001b[0m \u001b[0moptions\u001b[0m\u001b[0;34m=\u001b[0m\u001b[0moptions\u001b[0m\u001b[0;34m)\u001b[0m\u001b[0;34m\u001b[0m\u001b[0;34m\u001b[0m\u001b[0m\n\u001b[0m\u001b[1;32m   2125\u001b[0m       \u001b[0;31m# Record this checkpoint so it's visible from tf.train.latest_checkpoint.\u001b[0m\u001b[0;34m\u001b[0m\u001b[0;34m\u001b[0m\u001b[0;34m\u001b[0m\u001b[0m\n\u001b[1;32m   2126\u001b[0m       checkpoint_management.update_checkpoint_state_internal(\n",
            "\u001b[0;32m/usr/local/lib/python3.7/dist-packages/tensorflow/python/training/tracking/util.py\u001b[0m in \u001b[0;36msave\u001b[0;34m(self, file_prefix, checkpoint_number, session, options)\u001b[0m\n\u001b[1;32m   1215\u001b[0m     \u001b[0mfile_io\u001b[0m\u001b[0;34m.\u001b[0m\u001b[0mrecursive_create_dir\u001b[0m\u001b[0;34m(\u001b[0m\u001b[0mos\u001b[0m\u001b[0;34m.\u001b[0m\u001b[0mpath\u001b[0m\u001b[0;34m.\u001b[0m\u001b[0mdirname\u001b[0m\u001b[0;34m(\u001b[0m\u001b[0mfile_prefix\u001b[0m\u001b[0;34m)\u001b[0m\u001b[0;34m)\u001b[0m\u001b[0;34m\u001b[0m\u001b[0;34m\u001b[0m\u001b[0m\n\u001b[1;32m   1216\u001b[0m     save_path, new_feed_additions = self._save_cached_when_graph_building(\n\u001b[0;32m-> 1217\u001b[0;31m         file_prefix_tensor, object_graph_tensor, options)\n\u001b[0m\u001b[1;32m   1218\u001b[0m     \u001b[0;32mif\u001b[0m \u001b[0mnew_feed_additions\u001b[0m\u001b[0;34m:\u001b[0m\u001b[0;34m\u001b[0m\u001b[0;34m\u001b[0m\u001b[0m\n\u001b[1;32m   1219\u001b[0m       \u001b[0mfeed_dict\u001b[0m\u001b[0;34m.\u001b[0m\u001b[0mupdate\u001b[0m\u001b[0;34m(\u001b[0m\u001b[0mnew_feed_additions\u001b[0m\u001b[0;34m)\u001b[0m\u001b[0;34m\u001b[0m\u001b[0;34m\u001b[0m\u001b[0m\n",
            "\u001b[0;32m/usr/local/lib/python3.7/dist-packages/tensorflow/python/training/tracking/util.py\u001b[0m in \u001b[0;36m_save_cached_when_graph_building\u001b[0;34m(self, file_prefix, object_graph_tensor, options)\u001b[0m\n\u001b[1;32m   1160\u001b[0m         or context.executing_eagerly() or ops.inside_function()):\n\u001b[1;32m   1161\u001b[0m       \u001b[0msaver\u001b[0m \u001b[0;34m=\u001b[0m \u001b[0mfunctional_saver\u001b[0m\u001b[0;34m.\u001b[0m\u001b[0mMultiDeviceSaver\u001b[0m\u001b[0;34m(\u001b[0m\u001b[0mnamed_saveable_objects\u001b[0m\u001b[0;34m)\u001b[0m\u001b[0;34m\u001b[0m\u001b[0;34m\u001b[0m\u001b[0m\n\u001b[0;32m-> 1162\u001b[0;31m       \u001b[0msave_op\u001b[0m \u001b[0;34m=\u001b[0m \u001b[0msaver\u001b[0m\u001b[0;34m.\u001b[0m\u001b[0msave\u001b[0m\u001b[0;34m(\u001b[0m\u001b[0mfile_prefix\u001b[0m\u001b[0;34m,\u001b[0m \u001b[0moptions\u001b[0m\u001b[0;34m=\u001b[0m\u001b[0moptions\u001b[0m\u001b[0;34m)\u001b[0m\u001b[0;34m\u001b[0m\u001b[0;34m\u001b[0m\u001b[0m\n\u001b[0m\u001b[1;32m   1163\u001b[0m       \u001b[0;32mwith\u001b[0m \u001b[0mops\u001b[0m\u001b[0;34m.\u001b[0m\u001b[0mdevice\u001b[0m\u001b[0;34m(\u001b[0m\u001b[0;34m\"/cpu:0\"\u001b[0m\u001b[0;34m)\u001b[0m\u001b[0;34m:\u001b[0m\u001b[0;34m\u001b[0m\u001b[0;34m\u001b[0m\u001b[0m\n\u001b[1;32m   1164\u001b[0m         \u001b[0;32mwith\u001b[0m \u001b[0mops\u001b[0m\u001b[0;34m.\u001b[0m\u001b[0mcontrol_dependencies\u001b[0m\u001b[0;34m(\u001b[0m\u001b[0;34m[\u001b[0m\u001b[0msave_op\u001b[0m\u001b[0;34m]\u001b[0m\u001b[0;34m)\u001b[0m\u001b[0;34m:\u001b[0m\u001b[0;34m\u001b[0m\u001b[0;34m\u001b[0m\u001b[0m\n",
            "\u001b[0;32m/usr/local/lib/python3.7/dist-packages/tensorflow/python/training/saving/functional_saver.py\u001b[0m in \u001b[0;36msave\u001b[0;34m(self, file_prefix, options)\u001b[0m\n\u001b[1;32m    298\u001b[0m       \u001b[0mtf_function_save\u001b[0m\u001b[0;34m(\u001b[0m\u001b[0;34m)\u001b[0m\u001b[0;34m\u001b[0m\u001b[0;34m\u001b[0m\u001b[0m\n\u001b[1;32m    299\u001b[0m     \u001b[0;32melse\u001b[0m\u001b[0;34m:\u001b[0m\u001b[0;34m\u001b[0m\u001b[0;34m\u001b[0m\u001b[0m\n\u001b[0;32m--> 300\u001b[0;31m       \u001b[0;32mreturn\u001b[0m \u001b[0msave_fn\u001b[0m\u001b[0;34m(\u001b[0m\u001b[0;34m)\u001b[0m\u001b[0;34m\u001b[0m\u001b[0;34m\u001b[0m\u001b[0m\n\u001b[0m\u001b[1;32m    301\u001b[0m \u001b[0;34m\u001b[0m\u001b[0m\n\u001b[1;32m    302\u001b[0m   \u001b[0;32mdef\u001b[0m \u001b[0mrestore\u001b[0m\u001b[0;34m(\u001b[0m\u001b[0mself\u001b[0m\u001b[0;34m,\u001b[0m \u001b[0mfile_prefix\u001b[0m\u001b[0;34m,\u001b[0m \u001b[0moptions\u001b[0m\u001b[0;34m=\u001b[0m\u001b[0;32mNone\u001b[0m\u001b[0;34m)\u001b[0m\u001b[0;34m:\u001b[0m\u001b[0;34m\u001b[0m\u001b[0;34m\u001b[0m\u001b[0m\n",
            "\u001b[0;32m/usr/local/lib/python3.7/dist-packages/tensorflow/python/training/saving/functional_saver.py\u001b[0m in \u001b[0;36msave_fn\u001b[0;34m()\u001b[0m\n\u001b[1;32m    272\u001b[0m           \u001b[0;31m# initial read operations should be placed on the SaveableObject's\u001b[0m\u001b[0;34m\u001b[0m\u001b[0;34m\u001b[0m\u001b[0;34m\u001b[0m\u001b[0m\n\u001b[1;32m    273\u001b[0m           \u001b[0;31m# device.\u001b[0m\u001b[0;34m\u001b[0m\u001b[0;34m\u001b[0m\u001b[0;34m\u001b[0m\u001b[0m\n\u001b[0;32m--> 274\u001b[0;31m           \u001b[0msharded_saves\u001b[0m\u001b[0;34m.\u001b[0m\u001b[0mappend\u001b[0m\u001b[0;34m(\u001b[0m\u001b[0msaver\u001b[0m\u001b[0;34m.\u001b[0m\u001b[0msave\u001b[0m\u001b[0;34m(\u001b[0m\u001b[0mshard_prefix\u001b[0m\u001b[0;34m,\u001b[0m \u001b[0moptions\u001b[0m\u001b[0;34m)\u001b[0m\u001b[0;34m)\u001b[0m\u001b[0;34m\u001b[0m\u001b[0;34m\u001b[0m\u001b[0m\n\u001b[0m\u001b[1;32m    275\u001b[0m \u001b[0;34m\u001b[0m\u001b[0m\n\u001b[1;32m    276\u001b[0m       \u001b[0;32mwith\u001b[0m \u001b[0mops\u001b[0m\u001b[0;34m.\u001b[0m\u001b[0mcontrol_dependencies\u001b[0m\u001b[0;34m(\u001b[0m\u001b[0msharded_saves\u001b[0m\u001b[0;34m)\u001b[0m\u001b[0;34m:\u001b[0m\u001b[0;34m\u001b[0m\u001b[0;34m\u001b[0m\u001b[0m\n",
            "\u001b[0;32m/usr/local/lib/python3.7/dist-packages/tensorflow/python/training/saving/functional_saver.py\u001b[0m in \u001b[0;36msave\u001b[0;34m(self, file_prefix, options)\u001b[0m\n\u001b[1;32m     81\u001b[0m     \u001b[0msave_device\u001b[0m \u001b[0;34m=\u001b[0m \u001b[0moptions\u001b[0m\u001b[0;34m.\u001b[0m\u001b[0mexperimental_io_device\u001b[0m \u001b[0;32mor\u001b[0m \u001b[0;34m\"cpu:0\"\u001b[0m\u001b[0;34m\u001b[0m\u001b[0;34m\u001b[0m\u001b[0m\n\u001b[1;32m     82\u001b[0m     \u001b[0;32mwith\u001b[0m \u001b[0mops\u001b[0m\u001b[0;34m.\u001b[0m\u001b[0mdevice\u001b[0m\u001b[0;34m(\u001b[0m\u001b[0msave_device\u001b[0m\u001b[0;34m)\u001b[0m\u001b[0;34m:\u001b[0m\u001b[0;34m\u001b[0m\u001b[0;34m\u001b[0m\u001b[0m\n\u001b[0;32m---> 83\u001b[0;31m       \u001b[0;32mreturn\u001b[0m \u001b[0mio_ops\u001b[0m\u001b[0;34m.\u001b[0m\u001b[0msave_v2\u001b[0m\u001b[0;34m(\u001b[0m\u001b[0mfile_prefix\u001b[0m\u001b[0;34m,\u001b[0m \u001b[0mtensor_names\u001b[0m\u001b[0;34m,\u001b[0m \u001b[0mtensor_slices\u001b[0m\u001b[0;34m,\u001b[0m \u001b[0mtensors\u001b[0m\u001b[0;34m)\u001b[0m\u001b[0;34m\u001b[0m\u001b[0;34m\u001b[0m\u001b[0m\n\u001b[0m\u001b[1;32m     84\u001b[0m \u001b[0;34m\u001b[0m\u001b[0m\n\u001b[1;32m     85\u001b[0m   \u001b[0;32mdef\u001b[0m \u001b[0mrestore\u001b[0m\u001b[0;34m(\u001b[0m\u001b[0mself\u001b[0m\u001b[0;34m,\u001b[0m \u001b[0mfile_prefix\u001b[0m\u001b[0;34m,\u001b[0m \u001b[0moptions\u001b[0m\u001b[0;34m=\u001b[0m\u001b[0;32mNone\u001b[0m\u001b[0;34m)\u001b[0m\u001b[0;34m:\u001b[0m\u001b[0;34m\u001b[0m\u001b[0;34m\u001b[0m\u001b[0m\n",
            "\u001b[0;32m/usr/local/lib/python3.7/dist-packages/tensorflow/python/ops/gen_io_ops.py\u001b[0m in \u001b[0;36msave_v2\u001b[0;34m(prefix, tensor_names, shape_and_slices, tensors, name)\u001b[0m\n\u001b[1;32m   1714\u001b[0m       return save_v2_eager_fallback(\n\u001b[1;32m   1715\u001b[0m           \u001b[0mprefix\u001b[0m\u001b[0;34m,\u001b[0m \u001b[0mtensor_names\u001b[0m\u001b[0;34m,\u001b[0m \u001b[0mshape_and_slices\u001b[0m\u001b[0;34m,\u001b[0m \u001b[0mtensors\u001b[0m\u001b[0;34m,\u001b[0m \u001b[0mname\u001b[0m\u001b[0;34m=\u001b[0m\u001b[0mname\u001b[0m\u001b[0;34m,\u001b[0m\u001b[0;34m\u001b[0m\u001b[0;34m\u001b[0m\u001b[0m\n\u001b[0;32m-> 1716\u001b[0;31m           ctx=_ctx)\n\u001b[0m\u001b[1;32m   1717\u001b[0m     \u001b[0;32mexcept\u001b[0m \u001b[0m_core\u001b[0m\u001b[0;34m.\u001b[0m\u001b[0m_SymbolicException\u001b[0m\u001b[0;34m:\u001b[0m\u001b[0;34m\u001b[0m\u001b[0;34m\u001b[0m\u001b[0m\n\u001b[1;32m   1718\u001b[0m       \u001b[0;32mpass\u001b[0m  \u001b[0;31m# Add nodes to the TensorFlow graph.\u001b[0m\u001b[0;34m\u001b[0m\u001b[0;34m\u001b[0m\u001b[0m\n",
            "\u001b[0;32m/usr/local/lib/python3.7/dist-packages/tensorflow/python/ops/gen_io_ops.py\u001b[0m in \u001b[0;36msave_v2_eager_fallback\u001b[0;34m(prefix, tensor_names, shape_and_slices, tensors, name, ctx)\u001b[0m\n\u001b[1;32m   1734\u001b[0m   \u001b[0m_attrs\u001b[0m \u001b[0;34m=\u001b[0m \u001b[0;34m(\u001b[0m\u001b[0;34m\"dtypes\"\u001b[0m\u001b[0;34m,\u001b[0m \u001b[0m_attr_dtypes\u001b[0m\u001b[0;34m)\u001b[0m\u001b[0;34m\u001b[0m\u001b[0;34m\u001b[0m\u001b[0m\n\u001b[1;32m   1735\u001b[0m   _result = _execute.execute(b\"SaveV2\", 0, inputs=_inputs_flat, attrs=_attrs,\n\u001b[0;32m-> 1736\u001b[0;31m                              ctx=ctx, name=name)\n\u001b[0m\u001b[1;32m   1737\u001b[0m   \u001b[0m_result\u001b[0m \u001b[0;34m=\u001b[0m \u001b[0;32mNone\u001b[0m\u001b[0;34m\u001b[0m\u001b[0;34m\u001b[0m\u001b[0m\n\u001b[1;32m   1738\u001b[0m   \u001b[0;32mreturn\u001b[0m \u001b[0m_result\u001b[0m\u001b[0;34m\u001b[0m\u001b[0;34m\u001b[0m\u001b[0m\n",
            "\u001b[0;32m/usr/local/lib/python3.7/dist-packages/tensorflow/python/eager/execute.py\u001b[0m in \u001b[0;36mquick_execute\u001b[0;34m(op_name, num_outputs, inputs, attrs, ctx, name)\u001b[0m\n\u001b[1;32m     58\u001b[0m     \u001b[0mctx\u001b[0m\u001b[0;34m.\u001b[0m\u001b[0mensure_initialized\u001b[0m\u001b[0;34m(\u001b[0m\u001b[0;34m)\u001b[0m\u001b[0;34m\u001b[0m\u001b[0;34m\u001b[0m\u001b[0m\n\u001b[1;32m     59\u001b[0m     tensors = pywrap_tfe.TFE_Py_Execute(ctx._handle, device_name, op_name,\n\u001b[0;32m---> 60\u001b[0;31m                                         inputs, attrs, num_outputs)\n\u001b[0m\u001b[1;32m     61\u001b[0m   \u001b[0;32mexcept\u001b[0m \u001b[0mcore\u001b[0m\u001b[0;34m.\u001b[0m\u001b[0m_NotOkStatusException\u001b[0m \u001b[0;32mas\u001b[0m \u001b[0me\u001b[0m\u001b[0;34m:\u001b[0m\u001b[0;34m\u001b[0m\u001b[0;34m\u001b[0m\u001b[0m\n\u001b[1;32m     62\u001b[0m     \u001b[0;32mif\u001b[0m \u001b[0mname\u001b[0m \u001b[0;32mis\u001b[0m \u001b[0;32mnot\u001b[0m \u001b[0;32mNone\u001b[0m\u001b[0;34m:\u001b[0m\u001b[0;34m\u001b[0m\u001b[0;34m\u001b[0m\u001b[0m\n",
            "\u001b[0;31mNotFoundError\u001b[0m: /content/drive/MyDrive/AS5_Files/untitled_project/trial_0927ca1d51ebe77587f8153e5253bc71/checkpoints/epoch_0/checkpoint_temp/part-00000-of-00001.data-00000-of-00001.tempstate11351254739607928476; No such file or directory [Op:SaveV2]"
          ]
        }
      ]
    },
    {
      "cell_type": "code",
      "metadata": {
        "colab": {
          "base_uri": "https://localhost:8080/",
          "height": 542
        },
        "id": "uyC08-FD9TYT",
        "outputId": "f5baf371-8b1c-4f4e-ad53-b5edb0309593"
      },
      "source": [
        "tuner.get_best_models()[0].save('model1')"
      ],
      "execution_count": null,
      "outputs": [
        {
          "output_type": "error",
          "ename": "NotFoundError",
          "evalue": "ignored",
          "traceback": [
            "\u001b[0;31m---------------------------------------------------------------------------\u001b[0m",
            "\u001b[0;31mRuntimeError\u001b[0m                              Traceback (most recent call last)",
            "\u001b[0;32m/usr/local/lib/python3.7/dist-packages/tensorflow/python/training/py_checkpoint_reader.py\u001b[0m in \u001b[0;36mNewCheckpointReader\u001b[0;34m(filepattern)\u001b[0m\n\u001b[1;32m     94\u001b[0m   \u001b[0;32mtry\u001b[0m\u001b[0;34m:\u001b[0m\u001b[0;34m\u001b[0m\u001b[0;34m\u001b[0m\u001b[0m\n\u001b[0;32m---> 95\u001b[0;31m     \u001b[0;32mreturn\u001b[0m \u001b[0mCheckpointReader\u001b[0m\u001b[0;34m(\u001b[0m\u001b[0mcompat\u001b[0m\u001b[0;34m.\u001b[0m\u001b[0mas_bytes\u001b[0m\u001b[0;34m(\u001b[0m\u001b[0mfilepattern\u001b[0m\u001b[0;34m)\u001b[0m\u001b[0;34m)\u001b[0m\u001b[0;34m\u001b[0m\u001b[0;34m\u001b[0m\u001b[0m\n\u001b[0m\u001b[1;32m     96\u001b[0m   \u001b[0;31m# TODO(b/143319754): Remove the RuntimeError casting logic once we resolve the\u001b[0m\u001b[0;34m\u001b[0m\u001b[0;34m\u001b[0m\u001b[0;34m\u001b[0m\u001b[0m\n",
            "\u001b[0;31mRuntimeError\u001b[0m: Unsuccessful TensorSliceReader constructor: Failed to find any matching files for /content/drive/MyDrive/AS5_Files/untitled_project/trial_f7c116e343730e29686f103a120d5f87/checkpoints/epoch_0/checkpoint",
            "\nDuring handling of the above exception, another exception occurred:\n",
            "\u001b[0;31mNotFoundError\u001b[0m                             Traceback (most recent call last)",
            "\u001b[0;32m<ipython-input-103-aa70ea5f6e09>\u001b[0m in \u001b[0;36m<module>\u001b[0;34m()\u001b[0m\n\u001b[0;32m----> 1\u001b[0;31m \u001b[0mtuner\u001b[0m\u001b[0;34m.\u001b[0m\u001b[0mget_best_models\u001b[0m\u001b[0;34m(\u001b[0m\u001b[0;34m)\u001b[0m\u001b[0;34m[\u001b[0m\u001b[0;36m0\u001b[0m\u001b[0;34m]\u001b[0m\u001b[0;34m.\u001b[0m\u001b[0msave\u001b[0m\u001b[0;34m(\u001b[0m\u001b[0;34m'model1'\u001b[0m\u001b[0;34m)\u001b[0m\u001b[0;34m\u001b[0m\u001b[0;34m\u001b[0m\u001b[0m\n\u001b[0m",
            "\u001b[0;32m/usr/local/lib/python3.7/dist-packages/kerastuner/engine/tuner.py\u001b[0m in \u001b[0;36mget_best_models\u001b[0;34m(self, num_models)\u001b[0m\n\u001b[1;32m    271\u001b[0m         \"\"\"\n\u001b[1;32m    272\u001b[0m         \u001b[0;31m# Method only exists in this class for the docstring override.\u001b[0m\u001b[0;34m\u001b[0m\u001b[0;34m\u001b[0m\u001b[0;34m\u001b[0m\u001b[0m\n\u001b[0;32m--> 273\u001b[0;31m         \u001b[0;32mreturn\u001b[0m \u001b[0msuper\u001b[0m\u001b[0;34m(\u001b[0m\u001b[0mTuner\u001b[0m\u001b[0;34m,\u001b[0m \u001b[0mself\u001b[0m\u001b[0;34m)\u001b[0m\u001b[0;34m.\u001b[0m\u001b[0mget_best_models\u001b[0m\u001b[0;34m(\u001b[0m\u001b[0mnum_models\u001b[0m\u001b[0;34m)\u001b[0m\u001b[0;34m\u001b[0m\u001b[0;34m\u001b[0m\u001b[0m\n\u001b[0m\u001b[1;32m    274\u001b[0m \u001b[0;34m\u001b[0m\u001b[0m\n\u001b[1;32m    275\u001b[0m     \u001b[0;32mdef\u001b[0m \u001b[0m_deepcopy_callbacks\u001b[0m\u001b[0;34m(\u001b[0m\u001b[0mself\u001b[0m\u001b[0;34m,\u001b[0m \u001b[0mcallbacks\u001b[0m\u001b[0;34m)\u001b[0m\u001b[0;34m:\u001b[0m\u001b[0;34m\u001b[0m\u001b[0;34m\u001b[0m\u001b[0m\n",
            "\u001b[0;32m/usr/local/lib/python3.7/dist-packages/kerastuner/engine/base_tuner.py\u001b[0m in \u001b[0;36mget_best_models\u001b[0;34m(self, num_models)\u001b[0m\n\u001b[1;32m    238\u001b[0m         \"\"\"\n\u001b[1;32m    239\u001b[0m         \u001b[0mbest_trials\u001b[0m \u001b[0;34m=\u001b[0m \u001b[0mself\u001b[0m\u001b[0;34m.\u001b[0m\u001b[0moracle\u001b[0m\u001b[0;34m.\u001b[0m\u001b[0mget_best_trials\u001b[0m\u001b[0;34m(\u001b[0m\u001b[0mnum_models\u001b[0m\u001b[0;34m)\u001b[0m\u001b[0;34m\u001b[0m\u001b[0;34m\u001b[0m\u001b[0m\n\u001b[0;32m--> 240\u001b[0;31m         \u001b[0mmodels\u001b[0m \u001b[0;34m=\u001b[0m \u001b[0;34m[\u001b[0m\u001b[0mself\u001b[0m\u001b[0;34m.\u001b[0m\u001b[0mload_model\u001b[0m\u001b[0;34m(\u001b[0m\u001b[0mtrial\u001b[0m\u001b[0;34m)\u001b[0m \u001b[0;32mfor\u001b[0m \u001b[0mtrial\u001b[0m \u001b[0;32min\u001b[0m \u001b[0mbest_trials\u001b[0m\u001b[0;34m]\u001b[0m\u001b[0;34m\u001b[0m\u001b[0;34m\u001b[0m\u001b[0m\n\u001b[0m\u001b[1;32m    241\u001b[0m         \u001b[0;32mreturn\u001b[0m \u001b[0mmodels\u001b[0m\u001b[0;34m\u001b[0m\u001b[0;34m\u001b[0m\u001b[0m\n\u001b[1;32m    242\u001b[0m \u001b[0;34m\u001b[0m\u001b[0m\n",
            "\u001b[0;32m/usr/local/lib/python3.7/dist-packages/kerastuner/engine/base_tuner.py\u001b[0m in \u001b[0;36m<listcomp>\u001b[0;34m(.0)\u001b[0m\n\u001b[1;32m    238\u001b[0m         \"\"\"\n\u001b[1;32m    239\u001b[0m         \u001b[0mbest_trials\u001b[0m \u001b[0;34m=\u001b[0m \u001b[0mself\u001b[0m\u001b[0;34m.\u001b[0m\u001b[0moracle\u001b[0m\u001b[0;34m.\u001b[0m\u001b[0mget_best_trials\u001b[0m\u001b[0;34m(\u001b[0m\u001b[0mnum_models\u001b[0m\u001b[0;34m)\u001b[0m\u001b[0;34m\u001b[0m\u001b[0;34m\u001b[0m\u001b[0m\n\u001b[0;32m--> 240\u001b[0;31m         \u001b[0mmodels\u001b[0m \u001b[0;34m=\u001b[0m \u001b[0;34m[\u001b[0m\u001b[0mself\u001b[0m\u001b[0;34m.\u001b[0m\u001b[0mload_model\u001b[0m\u001b[0;34m(\u001b[0m\u001b[0mtrial\u001b[0m\u001b[0;34m)\u001b[0m \u001b[0;32mfor\u001b[0m \u001b[0mtrial\u001b[0m \u001b[0;32min\u001b[0m \u001b[0mbest_trials\u001b[0m\u001b[0;34m]\u001b[0m\u001b[0;34m\u001b[0m\u001b[0;34m\u001b[0m\u001b[0m\n\u001b[0m\u001b[1;32m    241\u001b[0m         \u001b[0;32mreturn\u001b[0m \u001b[0mmodels\u001b[0m\u001b[0;34m\u001b[0m\u001b[0;34m\u001b[0m\u001b[0m\n\u001b[1;32m    242\u001b[0m \u001b[0;34m\u001b[0m\u001b[0m\n",
            "\u001b[0;32m/usr/local/lib/python3.7/dist-packages/kerastuner/engine/tuner.py\u001b[0m in \u001b[0;36mload_model\u001b[0;34m(self, trial)\u001b[0m\n\u001b[1;32m    197\u001b[0m         \u001b[0;32mwith\u001b[0m \u001b[0mhm_module\u001b[0m\u001b[0;34m.\u001b[0m\u001b[0mmaybe_distribute\u001b[0m\u001b[0;34m(\u001b[0m\u001b[0mself\u001b[0m\u001b[0;34m.\u001b[0m\u001b[0mdistribution_strategy\u001b[0m\u001b[0;34m)\u001b[0m\u001b[0;34m:\u001b[0m\u001b[0;34m\u001b[0m\u001b[0;34m\u001b[0m\u001b[0m\n\u001b[1;32m    198\u001b[0m             model.load_weights(self._get_checkpoint_fname(\n\u001b[0;32m--> 199\u001b[0;31m                 trial.trial_id, best_epoch))\n\u001b[0m\u001b[1;32m    200\u001b[0m         \u001b[0;32mreturn\u001b[0m \u001b[0mmodel\u001b[0m\u001b[0;34m\u001b[0m\u001b[0;34m\u001b[0m\u001b[0m\n\u001b[1;32m    201\u001b[0m \u001b[0;34m\u001b[0m\u001b[0m\n",
            "\u001b[0;32m/usr/local/lib/python3.7/dist-packages/tensorflow/python/keras/engine/training.py\u001b[0m in \u001b[0;36mload_weights\u001b[0;34m(self, filepath, by_name, skip_mismatch, options)\u001b[0m\n\u001b[1;32m   2197\u001b[0m     \u001b[0;32melse\u001b[0m\u001b[0;34m:\u001b[0m\u001b[0;34m\u001b[0m\u001b[0;34m\u001b[0m\u001b[0m\n\u001b[1;32m   2198\u001b[0m       \u001b[0;32mtry\u001b[0m\u001b[0;34m:\u001b[0m\u001b[0;34m\u001b[0m\u001b[0;34m\u001b[0m\u001b[0m\n\u001b[0;32m-> 2199\u001b[0;31m         \u001b[0mpy_checkpoint_reader\u001b[0m\u001b[0;34m.\u001b[0m\u001b[0mNewCheckpointReader\u001b[0m\u001b[0;34m(\u001b[0m\u001b[0mfilepath\u001b[0m\u001b[0;34m)\u001b[0m\u001b[0;34m\u001b[0m\u001b[0;34m\u001b[0m\u001b[0m\n\u001b[0m\u001b[1;32m   2200\u001b[0m         \u001b[0msave_format\u001b[0m \u001b[0;34m=\u001b[0m \u001b[0;34m'tf'\u001b[0m\u001b[0;34m\u001b[0m\u001b[0;34m\u001b[0m\u001b[0m\n\u001b[1;32m   2201\u001b[0m       \u001b[0;32mexcept\u001b[0m \u001b[0merrors_impl\u001b[0m\u001b[0;34m.\u001b[0m\u001b[0mDataLossError\u001b[0m\u001b[0;34m:\u001b[0m\u001b[0;34m\u001b[0m\u001b[0;34m\u001b[0m\u001b[0m\n",
            "\u001b[0;32m/usr/local/lib/python3.7/dist-packages/tensorflow/python/training/py_checkpoint_reader.py\u001b[0m in \u001b[0;36mNewCheckpointReader\u001b[0;34m(filepattern)\u001b[0m\n\u001b[1;32m     97\u001b[0m   \u001b[0;31m# issue with throwing python exceptions from C++.\u001b[0m\u001b[0;34m\u001b[0m\u001b[0;34m\u001b[0m\u001b[0;34m\u001b[0m\u001b[0m\n\u001b[1;32m     98\u001b[0m   \u001b[0;32mexcept\u001b[0m \u001b[0mRuntimeError\u001b[0m \u001b[0;32mas\u001b[0m \u001b[0me\u001b[0m\u001b[0;34m:\u001b[0m\u001b[0;34m\u001b[0m\u001b[0;34m\u001b[0m\u001b[0m\n\u001b[0;32m---> 99\u001b[0;31m     \u001b[0merror_translator\u001b[0m\u001b[0;34m(\u001b[0m\u001b[0me\u001b[0m\u001b[0;34m)\u001b[0m\u001b[0;34m\u001b[0m\u001b[0;34m\u001b[0m\u001b[0m\n\u001b[0m",
            "\u001b[0;32m/usr/local/lib/python3.7/dist-packages/tensorflow/python/training/py_checkpoint_reader.py\u001b[0m in \u001b[0;36merror_translator\u001b[0;34m(e)\u001b[0m\n\u001b[1;32m     33\u001b[0m       \u001b[0;34m'Failed to find any '\u001b[0m\u001b[0;34m\u001b[0m\u001b[0;34m\u001b[0m\u001b[0m\n\u001b[1;32m     34\u001b[0m       'matching files for') in error_message:\n\u001b[0;32m---> 35\u001b[0;31m     \u001b[0;32mraise\u001b[0m \u001b[0merrors_impl\u001b[0m\u001b[0;34m.\u001b[0m\u001b[0mNotFoundError\u001b[0m\u001b[0;34m(\u001b[0m\u001b[0;32mNone\u001b[0m\u001b[0;34m,\u001b[0m \u001b[0;32mNone\u001b[0m\u001b[0;34m,\u001b[0m \u001b[0merror_message\u001b[0m\u001b[0;34m)\u001b[0m\u001b[0;34m\u001b[0m\u001b[0;34m\u001b[0m\u001b[0m\n\u001b[0m\u001b[1;32m     36\u001b[0m   elif 'Sliced checkpoints are not supported' in error_message or (\n\u001b[1;32m     37\u001b[0m       \u001b[0;34m'Data type '\u001b[0m\u001b[0;34m\u001b[0m\u001b[0;34m\u001b[0m\u001b[0m\n",
            "\u001b[0;31mNotFoundError\u001b[0m: Unsuccessful TensorSliceReader constructor: Failed to find any matching files for /content/drive/MyDrive/AS5_Files/untitled_project/trial_f7c116e343730e29686f103a120d5f87/checkpoints/epoch_0/checkpoint"
          ]
        }
      ]
    },
    {
      "cell_type": "markdown",
      "metadata": {
        "id": "yx_FGO88Xupe"
      },
      "source": [
        "Building CNN"
      ]
    },
    {
      "cell_type": "code",
      "metadata": {
        "id": "7koz-t_th2Fi"
      },
      "source": [
        "bestParams = tuner.get_best_hyperparameters()[0]\n",
        "newModel = tuner.hypermodel.build(bestParams)"
      ],
      "execution_count": null,
      "outputs": []
    },
    {
      "cell_type": "code",
      "metadata": {
        "id": "vjoZ2pagjAR6"
      },
      "source": [
        "newModel = tuner.get_best_models(num_models=1)[0]"
      ],
      "execution_count": null,
      "outputs": []
    },
    {
      "cell_type": "code",
      "metadata": {
        "id": "OMsE5H1OkNJV"
      },
      "source": [
        "training_Batches.reset()\n",
        "validation_Batches.reset()"
      ],
      "execution_count": null,
      "outputs": []
    },
    {
      "cell_type": "code",
      "metadata": {
        "colab": {
          "base_uri": "https://localhost:8080/"
        },
        "id": "60DICiftkJt4",
        "outputId": "9c8de3d2-6e0d-4d87-b980-35d609f2ec65"
      },
      "source": [
        "hist = newModel.fit(training_Batches, validation_data= validation_Batches, epochs = 20, steps_per_epoch= 20)"
      ],
      "execution_count": null,
      "outputs": [
        {
          "output_type": "stream",
          "text": [
            "Epoch 1/20\n",
            "20/20 [==============================] - 771s 38s/step - loss: 0.3489 - accuracy: 0.8419 - val_loss: 77.5154 - val_accuracy: 0.7605\n",
            "Epoch 2/20\n",
            "20/20 [==============================] - 404s 20s/step - loss: 0.3152 - accuracy: 0.8744 - val_loss: 79.3963 - val_accuracy: 0.7643\n",
            "Epoch 3/20\n",
            "20/20 [==============================] - 321s 16s/step - loss: 0.2906 - accuracy: 0.8818 - val_loss: 89.4473 - val_accuracy: 0.7624\n",
            "Epoch 4/20\n",
            "20/20 [==============================] - 263s 13s/step - loss: 0.3019 - accuracy: 0.8785 - val_loss: 69.5940 - val_accuracy: 0.7662\n",
            "Epoch 5/20\n",
            "20/20 [==============================] - 192s 10s/step - loss: 0.2800 - accuracy: 0.9025 - val_loss: 92.7218 - val_accuracy: 0.7700\n",
            "Epoch 6/20\n",
            "20/20 [==============================] - 164s 8s/step - loss: 0.2431 - accuracy: 0.9155 - val_loss: 76.1463 - val_accuracy: 0.7662\n",
            "Epoch 7/20\n",
            "20/20 [==============================] - 128s 6s/step - loss: 0.2666 - accuracy: 0.8932 - val_loss: 96.3263 - val_accuracy: 0.7510\n",
            "Epoch 8/20\n",
            "20/20 [==============================] - 103s 5s/step - loss: 0.2385 - accuracy: 0.8995 - val_loss: 109.2498 - val_accuracy: 0.7624\n",
            "Epoch 9/20\n",
            "20/20 [==============================] - 94s 5s/step - loss: 0.1823 - accuracy: 0.9433 - val_loss: 114.8086 - val_accuracy: 0.7548\n",
            "Epoch 10/20\n",
            "20/20 [==============================] - 77s 4s/step - loss: 0.2205 - accuracy: 0.9117 - val_loss: 121.4010 - val_accuracy: 0.7567\n",
            "Epoch 11/20\n",
            "20/20 [==============================] - 64s 3s/step - loss: 0.1699 - accuracy: 0.9458 - val_loss: 118.6933 - val_accuracy: 0.7281\n",
            "Epoch 12/20\n",
            "20/20 [==============================] - 47s 2s/step - loss: 0.1634 - accuracy: 0.9416 - val_loss: 100.1296 - val_accuracy: 0.7586\n",
            "Epoch 13/20\n",
            "20/20 [==============================] - 39s 2s/step - loss: 0.1690 - accuracy: 0.9439 - val_loss: 141.3303 - val_accuracy: 0.7586\n",
            "Epoch 14/20\n",
            "20/20 [==============================] - 35s 2s/step - loss: 0.1582 - accuracy: 0.9295 - val_loss: 117.9483 - val_accuracy: 0.7548\n",
            "Epoch 15/20\n",
            "20/20 [==============================] - 32s 2s/step - loss: 0.1283 - accuracy: 0.9684 - val_loss: 143.9697 - val_accuracy: 0.7586\n",
            "Epoch 16/20\n",
            "20/20 [==============================] - 30s 1s/step - loss: 0.1306 - accuracy: 0.9570 - val_loss: 141.8806 - val_accuracy: 0.7662\n",
            "Epoch 17/20\n",
            "20/20 [==============================] - 27s 1s/step - loss: 0.1004 - accuracy: 0.9733 - val_loss: 155.8639 - val_accuracy: 0.7281\n",
            "Epoch 18/20\n",
            "20/20 [==============================] - 27s 1s/step - loss: 0.1044 - accuracy: 0.9730 - val_loss: 173.9850 - val_accuracy: 0.7586\n",
            "Epoch 19/20\n",
            "20/20 [==============================] - 24s 1s/step - loss: 0.1248 - accuracy: 0.9557 - val_loss: 171.3746 - val_accuracy: 0.7376\n",
            "Epoch 20/20\n",
            "20/20 [==============================] - 23s 1s/step - loss: 0.0850 - accuracy: 0.9745 - val_loss: 170.2567 - val_accuracy: 0.7529\n"
          ],
          "name": "stdout"
        }
      ]
    },
    {
      "cell_type": "code",
      "metadata": {
        "colab": {
          "base_uri": "https://localhost:8080/"
        },
        "id": "hePGVMrulujc",
        "outputId": "d726fc29-8956-43f9-bd74-84f6d3355440"
      },
      "source": [
        "epoch_val_accs = hist.history['val_accuracy']\n",
        "best_epoch_val = epoch_val_accs.index(max(epoch_val_accs)) + 1\n",
        "print(best_epoch_val)"
      ],
      "execution_count": null,
      "outputs": [
        {
          "output_type": "stream",
          "text": [
            "17\n"
          ],
          "name": "stdout"
        }
      ]
    },
    {
      "cell_type": "code",
      "metadata": {
        "id": "f5uSoC5ImEEl"
      },
      "source": [
        "newModelV1 = tuner.hypermodel.build(bestParams)"
      ],
      "execution_count": null,
      "outputs": []
    },
    {
      "cell_type": "code",
      "metadata": {
        "id": "oyAZjwBsmTgn"
      },
      "source": [
        "training_Batches.reset()\n",
        "testing_Batches.reset()\n",
        "validation_Batches.reset()"
      ],
      "execution_count": null,
      "outputs": []
    },
    {
      "cell_type": "code",
      "metadata": {
        "colab": {
          "base_uri": "https://localhost:8080/"
        },
        "id": "4-QMEHg0mQl-",
        "outputId": "88e3fe09-42d4-4f44-f0b7-8a56bedd35c6"
      },
      "source": [
        "newModelV1.fit(training_Batches, validation_data= validation_Batches, epochs = best_epoch_val, steps_per_epoch= 20 )"
      ],
      "execution_count": null,
      "outputs": [
        {
          "output_type": "stream",
          "text": [
            "Epoch 1/17\n",
            "20/20 [==============================] - 29s 1s/step - loss: 2.0572 - accuracy: 0.4306 - val_loss: 176.8689 - val_accuracy: 0.6692\n",
            "Epoch 2/17\n",
            "20/20 [==============================] - 22s 1s/step - loss: 0.9077 - accuracy: 0.6353 - val_loss: 48.0224 - val_accuracy: 0.6882\n",
            "Epoch 3/17\n",
            "20/20 [==============================] - 26s 1s/step - loss: 0.6755 - accuracy: 0.7038 - val_loss: 60.6606 - val_accuracy: 0.7414\n",
            "Epoch 4/17\n",
            "20/20 [==============================] - 19s 979ms/step - loss: 0.5538 - accuracy: 0.7811 - val_loss: 61.4166 - val_accuracy: 0.7814\n",
            "Epoch 5/17\n",
            "20/20 [==============================] - 18s 960ms/step - loss: 0.5648 - accuracy: 0.7477 - val_loss: 55.9678 - val_accuracy: 0.7681\n",
            "Epoch 6/17\n",
            "20/20 [==============================] - 19s 967ms/step - loss: 0.5112 - accuracy: 0.7952 - val_loss: 69.2503 - val_accuracy: 0.7681\n",
            "Epoch 7/17\n",
            "20/20 [==============================] - 20s 1s/step - loss: 0.4441 - accuracy: 0.8036 - val_loss: 58.2501 - val_accuracy: 0.7871\n",
            "Epoch 8/17\n",
            "20/20 [==============================] - 22s 1s/step - loss: 0.4667 - accuracy: 0.8191 - val_loss: 52.9351 - val_accuracy: 0.7795\n",
            "Epoch 9/17\n",
            "20/20 [==============================] - 20s 1s/step - loss: 0.4668 - accuracy: 0.8055 - val_loss: 53.5414 - val_accuracy: 0.7966\n",
            "Epoch 10/17\n",
            "20/20 [==============================] - 19s 980ms/step - loss: 0.4791 - accuracy: 0.7895 - val_loss: 51.3877 - val_accuracy: 0.7814\n",
            "Epoch 11/17\n",
            "20/20 [==============================] - 19s 971ms/step - loss: 0.4246 - accuracy: 0.8286 - val_loss: 63.9453 - val_accuracy: 0.7795\n",
            "Epoch 12/17\n",
            "20/20 [==============================] - 19s 964ms/step - loss: 0.4492 - accuracy: 0.8123 - val_loss: 61.9616 - val_accuracy: 0.7700\n",
            "Epoch 13/17\n",
            "20/20 [==============================] - 20s 996ms/step - loss: 0.4858 - accuracy: 0.7838 - val_loss: 63.9845 - val_accuracy: 0.7795\n",
            "Epoch 14/17\n",
            "20/20 [==============================] - 20s 997ms/step - loss: 0.3834 - accuracy: 0.8561 - val_loss: 63.4314 - val_accuracy: 0.7300\n",
            "Epoch 15/17\n",
            "20/20 [==============================] - 23s 1s/step - loss: 0.4526 - accuracy: 0.7773 - val_loss: 77.5048 - val_accuracy: 0.7681\n",
            "Epoch 16/17\n",
            "20/20 [==============================] - 20s 1s/step - loss: 0.3992 - accuracy: 0.8148 - val_loss: 64.6392 - val_accuracy: 0.7852\n",
            "Epoch 17/17\n",
            "20/20 [==============================] - 20s 1s/step - loss: 0.3750 - accuracy: 0.8433 - val_loss: 72.1383 - val_accuracy: 0.7814\n"
          ],
          "name": "stdout"
        },
        {
          "output_type": "execute_result",
          "data": {
            "text/plain": [
              "<tensorflow.python.keras.callbacks.History at 0x7feacf25b310>"
            ]
          },
          "metadata": {
            "tags": []
          },
          "execution_count": 26
        }
      ]
    },
    {
      "cell_type": "code",
      "metadata": {
        "id": "hgBotxeWi0IE"
      },
      "source": [
        "newPred = newModel.predict(testing_Batches)"
      ],
      "execution_count": null,
      "outputs": []
    },
    {
      "cell_type": "code",
      "metadata": {
        "id": "j2vt7BZfjjlg"
      },
      "source": [
        ""
      ],
      "execution_count": null,
      "outputs": []
    },
    {
      "cell_type": "markdown",
      "metadata": {
        "id": "8Q7vOX8P_X-j"
      },
      "source": [
        "After going through with a baseline model of just one Conv2d Layer, I now will up the layers to 4 convolution layers and 2 connected layers."
      ]
    },
    {
      "cell_type": "code",
      "metadata": {
        "id": "30SRLHq7XwSL"
      },
      "source": [
        "###\n",
        "#model = Sequential([\n",
        "#                    #conv2d layer\n",
        "#                    Conv2D(32,(3,3), activation = \"relu\", input_shape = (400,400,1),),\n",
        "#                    Flatten(),\n",
        "#                    Dense(3, activation = \"softmax\")\n",
        "#])\n",
        "###"
      ],
      "execution_count": null,
      "outputs": []
    },
    {
      "cell_type": "code",
      "metadata": {
        "id": "l5k9JZdpK7c_"
      },
      "source": [
        "model = Sequential()"
      ],
      "execution_count": null,
      "outputs": []
    },
    {
      "cell_type": "markdown",
      "metadata": {
        "id": "NhXOXJtmC-zB"
      },
      "source": [
        "  layer 1"
      ]
    },
    {
      "cell_type": "code",
      "metadata": {
        "id": "9_G-7aI6JScV"
      },
      "source": [
        "model.add(Conv2D(32,(3,3), input_shape = (192,192,3), activation='relu'))#, activation='relu'))\n",
        "model.add(Conv2D(64,(3,3), activation='relu'))\n",
        "model.add(MaxPooling2D(pool_size=(2,2)))\n",
        "model.add(Dropout(.25))\n",
        "model.add(Flatten())\n",
        "model.add(Dense(128,activation='relu'))\n",
        "model.add(Dropout(.5))\n",
        "model.add(Dense(3,activation=\"softmax\"))\n",
        "\n",
        "\n"
      ],
      "execution_count": null,
      "outputs": []
    },
    {
      "cell_type": "markdown",
      "metadata": {
        "id": "-6Je2A_tEiUe"
      },
      "source": [
        "next 2 layers"
      ]
    },
    {
      "cell_type": "code",
      "metadata": {
        "id": "43Oo2bQP_9T4"
      },
      "source": [
        ""
      ],
      "execution_count": null,
      "outputs": []
    },
    {
      "cell_type": "code",
      "metadata": {
        "id": "b5uItvycFIOk"
      },
      "source": [
        "#\n",
        "#n = 2\n",
        "#e = 6\n",
        "#for i in range(0,1):\n",
        "#  val = pow(n,e)\n",
        "#  model.add(Conv2D(val,(3,3), padding = \"same\"))\n",
        "#  model.add(Activation(\"softmax\"))\n",
        "#  model.add(MaxPooling2D())\n",
        "#  e = e + 1"
      ],
      "execution_count": null,
      "outputs": []
    },
    {
      "cell_type": "markdown",
      "metadata": {
        "id": "oCCUb06rGqCN"
      },
      "source": [
        "final layers"
      ]
    },
    {
      "cell_type": "code",
      "metadata": {
        "id": "rI5j4aimLKW_"
      },
      "source": [
        "\n",
        "#model.add(Flatten())\n",
        "#model.add(Dense(128))\n",
        "#model.add(Activation(\"softmax\"))\n",
        "#model.add(Dense(3,activation=\"softmax\"))"
      ],
      "execution_count": null,
      "outputs": []
    },
    {
      "cell_type": "code",
      "metadata": {
        "id": "pxhb-Zi-Zriu"
      },
      "source": [
        "model.compile(Adam(lr = .0001), loss = 'categorical_crossentropy', metrics = [\"accuracy\"])"
      ],
      "execution_count": null,
      "outputs": []
    },
    {
      "cell_type": "code",
      "metadata": {
        "colab": {
          "base_uri": "https://localhost:8080/"
        },
        "id": "tmWQV3FMrqin",
        "outputId": "dda3e6d3-093e-415b-fce9-90f84e396248"
      },
      "source": [
        "model.fit(small_training_batch, steps_per_epoch= 3, epochs= 3)"
      ],
      "execution_count": null,
      "outputs": [
        {
          "output_type": "stream",
          "text": [
            "Epoch 1/3\n",
            "3/3 [==============================] - 0s 57ms/step - loss: 30.6277 - accuracy: 0.8889\n",
            "Epoch 2/3\n",
            "3/3 [==============================] - 0s 60ms/step - loss: 45.6530 - accuracy: 0.6667\n",
            "Epoch 3/3\n",
            "3/3 [==============================] - 0s 58ms/step - loss: 4.6480 - accuracy: 0.7778\n"
          ],
          "name": "stdout"
        },
        {
          "output_type": "execute_result",
          "data": {
            "text/plain": [
              "<tensorflow.python.keras.callbacks.History at 0x7f217e23d710>"
            ]
          },
          "metadata": {
            "tags": []
          },
          "execution_count": 110
        }
      ]
    },
    {
      "cell_type": "code",
      "metadata": {
        "colab": {
          "base_uri": "https://localhost:8080/",
          "height": 560
        },
        "id": "6Xvqz94pA04n",
        "outputId": "b285c8d6-cc9e-478c-ef6e-69fb0d4613ae"
      },
      "source": [
        "model.fit(training_Batches, steps_per_epoch= 20, validation_data = validation_Batches, validation_steps=12, epochs = 30) # callbacks=[eStopper])"
      ],
      "execution_count": null,
      "outputs": [
        {
          "output_type": "stream",
          "text": [
            "\b\b\b\b\b\b\b\b\b\b\b\b\b\b\b\b\b\b\b\b\b\b\b\b\b\b\b\b\b\b\b\b\b\b\b\b\b\b\b\b\b\b\b\b\b\b\b\b\b\b\b\b\b\b\b\b\b\b\b\b\b\b\b\b\b\b\b\b\b\b\b\b\b\b\b\b\b\b\b\b\b\b\r20/20 [==============================] - 11s 560ms/step - loss: 1.0792 - accuracy: 0.5050 - val_loss: 1.0785 - val_accuracy: 0.5083\n"
          ],
          "name": "stdout"
        },
        {
          "output_type": "stream",
          "text": [
            "Exception ignored in: <function IteratorResourceDeleter.__del__ at 0x7f225e57d5f0>\n",
            "Traceback (most recent call last):\n",
            "  File \"/usr/local/lib/python3.7/dist-packages/tensorflow/python/data/ops/iterator_ops.py\", line 535, in __del__\n",
            "    handle=self._handle, deleter=self._deleter)\n",
            "  File \"/usr/local/lib/python3.7/dist-packages/tensorflow/python/ops/gen_dataset_ops.py\", line 1264, in delete_iterator\n",
            "    _ctx, \"DeleteIterator\", name, handle, deleter)\n",
            "KeyboardInterrupt: \n"
          ],
          "name": "stderr"
        },
        {
          "output_type": "stream",
          "text": [
            "Epoch 22/30\n",
            " 1/20 [>.............................] - ETA: 4s - loss: 1.0906 - accuracy: 0.4118"
          ],
          "name": "stdout"
        },
        {
          "output_type": "error",
          "ename": "KeyboardInterrupt",
          "evalue": "ignored",
          "traceback": [
            "\u001b[0;31m---------------------------------------------------------------------------\u001b[0m",
            "\u001b[0;31mKeyboardInterrupt\u001b[0m                         Traceback (most recent call last)",
            "\u001b[0;32m<ipython-input-119-52601cc12542>\u001b[0m in \u001b[0;36m<module>\u001b[0;34m()\u001b[0m\n\u001b[0;32m----> 1\u001b[0;31m \u001b[0mmodel\u001b[0m\u001b[0;34m.\u001b[0m\u001b[0mfit\u001b[0m\u001b[0;34m(\u001b[0m\u001b[0mtraining_Batches\u001b[0m\u001b[0;34m,\u001b[0m \u001b[0msteps_per_epoch\u001b[0m\u001b[0;34m=\u001b[0m \u001b[0;36m20\u001b[0m\u001b[0;34m,\u001b[0m \u001b[0mvalidation_data\u001b[0m \u001b[0;34m=\u001b[0m \u001b[0mvalidation_Batches\u001b[0m\u001b[0;34m,\u001b[0m \u001b[0mvalidation_steps\u001b[0m\u001b[0;34m=\u001b[0m\u001b[0;36m12\u001b[0m\u001b[0;34m,\u001b[0m \u001b[0mepochs\u001b[0m \u001b[0;34m=\u001b[0m \u001b[0;36m30\u001b[0m\u001b[0;34m)\u001b[0m \u001b[0;31m# callbacks=[eStopper])\u001b[0m\u001b[0;34m\u001b[0m\u001b[0;34m\u001b[0m\u001b[0m\n\u001b[0m",
            "\u001b[0;32m/usr/local/lib/python3.7/dist-packages/tensorflow/python/keras/engine/training.py\u001b[0m in \u001b[0;36mfit\u001b[0;34m(self, x, y, batch_size, epochs, verbose, callbacks, validation_split, validation_data, shuffle, class_weight, sample_weight, initial_epoch, steps_per_epoch, validation_steps, validation_batch_size, validation_freq, max_queue_size, workers, use_multiprocessing)\u001b[0m\n\u001b[1;32m   1098\u001b[0m                 _r=1):\n\u001b[1;32m   1099\u001b[0m               \u001b[0mcallbacks\u001b[0m\u001b[0;34m.\u001b[0m\u001b[0mon_train_batch_begin\u001b[0m\u001b[0;34m(\u001b[0m\u001b[0mstep\u001b[0m\u001b[0;34m)\u001b[0m\u001b[0;34m\u001b[0m\u001b[0;34m\u001b[0m\u001b[0m\n\u001b[0;32m-> 1100\u001b[0;31m               \u001b[0mtmp_logs\u001b[0m \u001b[0;34m=\u001b[0m \u001b[0mself\u001b[0m\u001b[0;34m.\u001b[0m\u001b[0mtrain_function\u001b[0m\u001b[0;34m(\u001b[0m\u001b[0miterator\u001b[0m\u001b[0;34m)\u001b[0m\u001b[0;34m\u001b[0m\u001b[0;34m\u001b[0m\u001b[0m\n\u001b[0m\u001b[1;32m   1101\u001b[0m               \u001b[0;32mif\u001b[0m \u001b[0mdata_handler\u001b[0m\u001b[0;34m.\u001b[0m\u001b[0mshould_sync\u001b[0m\u001b[0;34m:\u001b[0m\u001b[0;34m\u001b[0m\u001b[0;34m\u001b[0m\u001b[0m\n\u001b[1;32m   1102\u001b[0m                 \u001b[0mcontext\u001b[0m\u001b[0;34m.\u001b[0m\u001b[0masync_wait\u001b[0m\u001b[0;34m(\u001b[0m\u001b[0;34m)\u001b[0m\u001b[0;34m\u001b[0m\u001b[0;34m\u001b[0m\u001b[0m\n",
            "\u001b[0;32m/usr/local/lib/python3.7/dist-packages/tensorflow/python/eager/def_function.py\u001b[0m in \u001b[0;36m__call__\u001b[0;34m(self, *args, **kwds)\u001b[0m\n\u001b[1;32m    826\u001b[0m     \u001b[0mtracing_count\u001b[0m \u001b[0;34m=\u001b[0m \u001b[0mself\u001b[0m\u001b[0;34m.\u001b[0m\u001b[0mexperimental_get_tracing_count\u001b[0m\u001b[0;34m(\u001b[0m\u001b[0;34m)\u001b[0m\u001b[0;34m\u001b[0m\u001b[0;34m\u001b[0m\u001b[0m\n\u001b[1;32m    827\u001b[0m     \u001b[0;32mwith\u001b[0m \u001b[0mtrace\u001b[0m\u001b[0;34m.\u001b[0m\u001b[0mTrace\u001b[0m\u001b[0;34m(\u001b[0m\u001b[0mself\u001b[0m\u001b[0;34m.\u001b[0m\u001b[0m_name\u001b[0m\u001b[0;34m)\u001b[0m \u001b[0;32mas\u001b[0m \u001b[0mtm\u001b[0m\u001b[0;34m:\u001b[0m\u001b[0;34m\u001b[0m\u001b[0;34m\u001b[0m\u001b[0m\n\u001b[0;32m--> 828\u001b[0;31m       \u001b[0mresult\u001b[0m \u001b[0;34m=\u001b[0m \u001b[0mself\u001b[0m\u001b[0;34m.\u001b[0m\u001b[0m_call\u001b[0m\u001b[0;34m(\u001b[0m\u001b[0;34m*\u001b[0m\u001b[0margs\u001b[0m\u001b[0;34m,\u001b[0m \u001b[0;34m**\u001b[0m\u001b[0mkwds\u001b[0m\u001b[0;34m)\u001b[0m\u001b[0;34m\u001b[0m\u001b[0;34m\u001b[0m\u001b[0m\n\u001b[0m\u001b[1;32m    829\u001b[0m       \u001b[0mcompiler\u001b[0m \u001b[0;34m=\u001b[0m \u001b[0;34m\"xla\"\u001b[0m \u001b[0;32mif\u001b[0m \u001b[0mself\u001b[0m\u001b[0;34m.\u001b[0m\u001b[0m_experimental_compile\u001b[0m \u001b[0;32melse\u001b[0m \u001b[0;34m\"nonXla\"\u001b[0m\u001b[0;34m\u001b[0m\u001b[0;34m\u001b[0m\u001b[0m\n\u001b[1;32m    830\u001b[0m       \u001b[0mnew_tracing_count\u001b[0m \u001b[0;34m=\u001b[0m \u001b[0mself\u001b[0m\u001b[0;34m.\u001b[0m\u001b[0mexperimental_get_tracing_count\u001b[0m\u001b[0;34m(\u001b[0m\u001b[0;34m)\u001b[0m\u001b[0;34m\u001b[0m\u001b[0;34m\u001b[0m\u001b[0m\n",
            "\u001b[0;32m/usr/local/lib/python3.7/dist-packages/tensorflow/python/eager/def_function.py\u001b[0m in \u001b[0;36m_call\u001b[0;34m(self, *args, **kwds)\u001b[0m\n\u001b[1;32m    853\u001b[0m       \u001b[0;31m# In this case we have created variables on the first call, so we run the\u001b[0m\u001b[0;34m\u001b[0m\u001b[0;34m\u001b[0m\u001b[0;34m\u001b[0m\u001b[0m\n\u001b[1;32m    854\u001b[0m       \u001b[0;31m# defunned version which is guaranteed to never create variables.\u001b[0m\u001b[0;34m\u001b[0m\u001b[0;34m\u001b[0m\u001b[0;34m\u001b[0m\u001b[0m\n\u001b[0;32m--> 855\u001b[0;31m       \u001b[0;32mreturn\u001b[0m \u001b[0mself\u001b[0m\u001b[0;34m.\u001b[0m\u001b[0m_stateless_fn\u001b[0m\u001b[0;34m(\u001b[0m\u001b[0;34m*\u001b[0m\u001b[0margs\u001b[0m\u001b[0;34m,\u001b[0m \u001b[0;34m**\u001b[0m\u001b[0mkwds\u001b[0m\u001b[0;34m)\u001b[0m  \u001b[0;31m# pylint: disable=not-callable\u001b[0m\u001b[0;34m\u001b[0m\u001b[0;34m\u001b[0m\u001b[0m\n\u001b[0m\u001b[1;32m    856\u001b[0m     \u001b[0;32melif\u001b[0m \u001b[0mself\u001b[0m\u001b[0;34m.\u001b[0m\u001b[0m_stateful_fn\u001b[0m \u001b[0;32mis\u001b[0m \u001b[0;32mnot\u001b[0m \u001b[0;32mNone\u001b[0m\u001b[0;34m:\u001b[0m\u001b[0;34m\u001b[0m\u001b[0;34m\u001b[0m\u001b[0m\n\u001b[1;32m    857\u001b[0m       \u001b[0;31m# Release the lock early so that multiple threads can perform the call\u001b[0m\u001b[0;34m\u001b[0m\u001b[0;34m\u001b[0m\u001b[0;34m\u001b[0m\u001b[0m\n",
            "\u001b[0;32m/usr/local/lib/python3.7/dist-packages/tensorflow/python/eager/function.py\u001b[0m in \u001b[0;36m__call__\u001b[0;34m(self, *args, **kwargs)\u001b[0m\n\u001b[1;32m   2941\u001b[0m        filtered_flat_args) = self._maybe_define_function(args, kwargs)\n\u001b[1;32m   2942\u001b[0m     return graph_function._call_flat(\n\u001b[0;32m-> 2943\u001b[0;31m         filtered_flat_args, captured_inputs=graph_function.captured_inputs)  # pylint: disable=protected-access\n\u001b[0m\u001b[1;32m   2944\u001b[0m \u001b[0;34m\u001b[0m\u001b[0m\n\u001b[1;32m   2945\u001b[0m   \u001b[0;34m@\u001b[0m\u001b[0mproperty\u001b[0m\u001b[0;34m\u001b[0m\u001b[0;34m\u001b[0m\u001b[0m\n",
            "\u001b[0;32m/usr/local/lib/python3.7/dist-packages/tensorflow/python/eager/function.py\u001b[0m in \u001b[0;36m_call_flat\u001b[0;34m(self, args, captured_inputs, cancellation_manager)\u001b[0m\n\u001b[1;32m   1917\u001b[0m       \u001b[0;31m# No tape is watching; skip to running the function.\u001b[0m\u001b[0;34m\u001b[0m\u001b[0;34m\u001b[0m\u001b[0;34m\u001b[0m\u001b[0m\n\u001b[1;32m   1918\u001b[0m       return self._build_call_outputs(self._inference_function.call(\n\u001b[0;32m-> 1919\u001b[0;31m           ctx, args, cancellation_manager=cancellation_manager))\n\u001b[0m\u001b[1;32m   1920\u001b[0m     forward_backward = self._select_forward_and_backward_functions(\n\u001b[1;32m   1921\u001b[0m         \u001b[0margs\u001b[0m\u001b[0;34m,\u001b[0m\u001b[0;34m\u001b[0m\u001b[0;34m\u001b[0m\u001b[0m\n",
            "\u001b[0;32m/usr/local/lib/python3.7/dist-packages/tensorflow/python/eager/function.py\u001b[0m in \u001b[0;36mcall\u001b[0;34m(self, ctx, args, cancellation_manager)\u001b[0m\n\u001b[1;32m    558\u001b[0m               \u001b[0minputs\u001b[0m\u001b[0;34m=\u001b[0m\u001b[0margs\u001b[0m\u001b[0;34m,\u001b[0m\u001b[0;34m\u001b[0m\u001b[0;34m\u001b[0m\u001b[0m\n\u001b[1;32m    559\u001b[0m               \u001b[0mattrs\u001b[0m\u001b[0;34m=\u001b[0m\u001b[0mattrs\u001b[0m\u001b[0;34m,\u001b[0m\u001b[0;34m\u001b[0m\u001b[0;34m\u001b[0m\u001b[0m\n\u001b[0;32m--> 560\u001b[0;31m               ctx=ctx)\n\u001b[0m\u001b[1;32m    561\u001b[0m         \u001b[0;32melse\u001b[0m\u001b[0;34m:\u001b[0m\u001b[0;34m\u001b[0m\u001b[0;34m\u001b[0m\u001b[0m\n\u001b[1;32m    562\u001b[0m           outputs = execute.execute_with_cancellation(\n",
            "\u001b[0;32m/usr/local/lib/python3.7/dist-packages/tensorflow/python/eager/execute.py\u001b[0m in \u001b[0;36mquick_execute\u001b[0;34m(op_name, num_outputs, inputs, attrs, ctx, name)\u001b[0m\n\u001b[1;32m     58\u001b[0m     \u001b[0mctx\u001b[0m\u001b[0;34m.\u001b[0m\u001b[0mensure_initialized\u001b[0m\u001b[0;34m(\u001b[0m\u001b[0;34m)\u001b[0m\u001b[0;34m\u001b[0m\u001b[0;34m\u001b[0m\u001b[0m\n\u001b[1;32m     59\u001b[0m     tensors = pywrap_tfe.TFE_Py_Execute(ctx._handle, device_name, op_name,\n\u001b[0;32m---> 60\u001b[0;31m                                         inputs, attrs, num_outputs)\n\u001b[0m\u001b[1;32m     61\u001b[0m   \u001b[0;32mexcept\u001b[0m \u001b[0mcore\u001b[0m\u001b[0;34m.\u001b[0m\u001b[0m_NotOkStatusException\u001b[0m \u001b[0;32mas\u001b[0m \u001b[0me\u001b[0m\u001b[0;34m:\u001b[0m\u001b[0;34m\u001b[0m\u001b[0;34m\u001b[0m\u001b[0m\n\u001b[1;32m     62\u001b[0m     \u001b[0;32mif\u001b[0m \u001b[0mname\u001b[0m \u001b[0;32mis\u001b[0m \u001b[0;32mnot\u001b[0m \u001b[0;32mNone\u001b[0m\u001b[0;34m:\u001b[0m\u001b[0;34m\u001b[0m\u001b[0;34m\u001b[0m\u001b[0m\n",
            "\u001b[0;31mKeyboardInterrupt\u001b[0m: "
          ]
        }
      ]
    },
    {
      "cell_type": "code",
      "metadata": {
        "id": "NncC-Yrylfdt"
      },
      "source": [
        "#model.fit_generator(training_Batches, steps_per_epoch= 10, validation_data= validation_Batches, validation_steps=10, epochs = 10, verbose = 2)"
      ],
      "execution_count": null,
      "outputs": []
    },
    {
      "cell_type": "markdown",
      "metadata": {
        "id": "1YsohEJAn-3C"
      },
      "source": [
        "**Predicting With Neural Network**"
      ]
    },
    {
      "cell_type": "code",
      "metadata": {
        "id": "1sggnk7csnIu"
      },
      "source": [
        "testing_Batches.reset()"
      ],
      "execution_count": null,
      "outputs": []
    },
    {
      "cell_type": "code",
      "metadata": {
        "id": "5-REcPRS0FKR",
        "colab": {
          "base_uri": "https://localhost:8080/",
          "height": 171
        },
        "outputId": "1b3e6715-5bca-498a-8b32-976bdd4c3370"
      },
      "source": [
        "predictions = model.predict(testing_Batches)"
      ],
      "execution_count": null,
      "outputs": [
        {
          "output_type": "error",
          "ename": "NameError",
          "evalue": "ignored",
          "traceback": [
            "\u001b[0;31m---------------------------------------------------------------------------\u001b[0m",
            "\u001b[0;31mNameError\u001b[0m                                 Traceback (most recent call last)",
            "\u001b[0;32m<ipython-input-25-77d2d8099356>\u001b[0m in \u001b[0;36m<module>\u001b[0;34m()\u001b[0m\n\u001b[0;32m----> 1\u001b[0;31m \u001b[0mpredictions\u001b[0m \u001b[0;34m=\u001b[0m \u001b[0mmodel\u001b[0m\u001b[0;34m.\u001b[0m\u001b[0mpredict\u001b[0m\u001b[0;34m(\u001b[0m\u001b[0mtesting_Batches\u001b[0m\u001b[0;34m)\u001b[0m\u001b[0;34m\u001b[0m\u001b[0;34m\u001b[0m\u001b[0m\n\u001b[0m",
            "\u001b[0;31mNameError\u001b[0m: name 'model' is not defined"
          ]
        }
      ]
    },
    {
      "cell_type": "code",
      "metadata": {
        "id": "TEobMM9Uughe"
      },
      "source": [
        "predictions_proper = np.argmax(predictions,axis = 1)"
      ],
      "execution_count": null,
      "outputs": []
    },
    {
      "cell_type": "code",
      "metadata": {
        "id": "Q1q8iDQKjoJm"
      },
      "source": [
        "newPredfixed = np.argmax(newPred,axis = 1) + 1"
      ],
      "execution_count": null,
      "outputs": []
    },
    {
      "cell_type": "code",
      "metadata": {
        "colab": {
          "base_uri": "https://localhost:8080/"
        },
        "id": "-hSaFZSzjugN",
        "outputId": "b0f297c1-9dc7-449d-d77a-bcf886e90841"
      },
      "source": [
        "newPredfixed"
      ],
      "execution_count": null,
      "outputs": [
        {
          "output_type": "execute_result",
          "data": {
            "text/plain": [
              "array([3, 3, 2, 3, 3, 3, 3, 3, 3, 1, 3, 3, 3, 3, 2, 3, 2, 3, 3, 1, 3, 1,\n",
              "       2, 1, 1, 1, 1, 1, 3, 3, 2, 1, 1, 3, 1, 1, 3, 1, 2, 3, 1, 2, 1, 1,\n",
              "       3, 1, 3, 1, 1, 2, 1, 2, 1, 2, 1, 1, 1, 1, 3, 3, 3, 3, 1, 1, 1, 3,\n",
              "       2, 1, 1, 1, 1, 3, 3, 2, 3, 3, 3, 3, 3, 3, 3, 3, 3, 1, 2, 3, 3, 1,\n",
              "       3, 3, 2, 2, 2, 2, 3, 3, 1, 1, 3, 3, 1, 1, 3, 1, 1, 3, 1, 3, 1, 1,\n",
              "       2, 1, 1, 1, 2, 1, 2, 3, 1, 3, 3, 3, 3, 1, 2, 2, 1, 1, 3, 2, 3, 3,\n",
              "       2, 1, 2, 2, 1, 1, 1, 1, 1, 2, 2, 2, 2, 2, 2, 3, 2, 3, 3, 2, 2, 2,\n",
              "       2, 2, 2, 2, 2, 2, 2, 3, 2, 1, 2, 3, 2, 3, 2, 3, 3, 3, 1, 3, 2, 3,\n",
              "       3, 1, 2, 3, 3, 2, 1, 3, 3, 3, 3, 3, 1, 1, 2, 3, 1, 3, 3, 3, 1, 1,\n",
              "       1, 3, 1, 2, 3, 1, 3, 2, 3, 1, 1, 1, 2, 3, 1, 2, 3, 3, 1, 2, 1, 3,\n",
              "       1, 1, 3, 2, 2, 2, 1, 3, 2, 1, 2, 1, 3, 1, 2, 2, 2, 2, 3, 2, 2, 2,\n",
              "       2, 2, 3, 3, 3, 2, 2, 3, 2, 2, 2, 2, 3, 3, 3, 3, 3, 3, 3, 3, 3, 3,\n",
              "       3, 3, 3, 3, 3, 3, 3, 1, 3, 3, 3, 3, 3, 3, 3, 3, 3, 3, 3, 3, 3, 3,\n",
              "       3, 3, 3, 3, 3, 3, 3, 3, 3, 3, 3, 3, 3, 3, 3, 3, 3, 3, 1, 3, 3, 3,\n",
              "       3, 3, 3, 3, 3, 3, 3, 3, 3, 3, 3, 3, 3, 3, 3, 3, 3, 3, 3, 2, 3, 3,\n",
              "       3, 3, 3, 3, 3, 3, 3, 3, 3, 3, 3, 3, 3, 3, 3, 3, 3, 3, 3, 2, 3, 3,\n",
              "       3, 3, 3, 3, 3, 3, 3, 3, 3, 3, 3, 3, 3, 3, 3, 3, 3, 3, 3, 3, 2, 3,\n",
              "       3, 3, 3, 3, 3, 3, 3, 3, 3, 3, 2, 3, 3, 3, 3, 3, 3, 3, 3, 3, 3, 3,\n",
              "       3, 2, 3, 3, 3, 3, 3, 3, 3, 3, 3, 3, 3, 3, 3, 3, 3, 3, 3, 3, 3, 3,\n",
              "       3, 3, 3, 3, 3, 3, 3, 3, 3, 3, 3, 3, 3, 3, 3, 3, 3, 3, 3, 3, 3, 3,\n",
              "       3, 3, 3, 3, 3, 3, 3, 3, 3, 3, 3, 3, 3, 3, 3, 3, 3, 3, 3, 3, 3, 3,\n",
              "       3, 3, 3, 3, 3, 3, 3, 3, 3, 3, 3, 3, 3, 3, 3, 3, 3, 3, 3, 3, 3, 3,\n",
              "       2, 2, 3, 3, 3, 3, 3, 3, 3, 3, 3, 2, 3, 3, 3, 2, 3, 2, 2, 2, 2, 2,\n",
              "       2, 2, 2, 3, 3, 2, 3, 2, 2, 2, 2, 2, 2, 2, 2, 2, 2, 2, 2, 3, 2, 3,\n",
              "       2, 2, 2, 2, 3, 3, 3, 2, 2, 2, 2, 2, 2, 3, 2, 2, 3, 3, 3, 2, 2, 2,\n",
              "       3, 2, 2, 2, 2, 2, 2, 3, 3, 3, 3, 3, 3, 3, 3, 3, 3, 3, 3, 3, 3, 3,\n",
              "       3, 3, 3, 3, 3, 3, 2, 3, 3, 2, 3, 2, 2, 2, 2, 2, 2, 2, 2, 3, 2, 2,\n",
              "       3, 3, 2, 3, 2, 3, 3, 2, 2, 3, 2, 1, 2, 2, 2, 3, 3, 3, 2, 3, 2, 3,\n",
              "       2, 2, 2, 2, 3, 2, 3, 3])"
            ]
          },
          "metadata": {
            "tags": []
          },
          "execution_count": 27
        }
      ]
    },
    {
      "cell_type": "code",
      "metadata": {
        "id": "QkNsAoIBuqKG"
      },
      "source": [
        "for i in range(0,predictions_proper.shape[0]):\n",
        "  predictions_proper[i] = predictions_proper[i] + 1"
      ],
      "execution_count": null,
      "outputs": []
    },
    {
      "cell_type": "code",
      "metadata": {
        "colab": {
          "base_uri": "https://localhost:8080/"
        },
        "id": "fkQ6LXxVvGAA",
        "outputId": "d246041d-1857-493c-e835-43b9dfe4b9f5"
      },
      "source": [
        "predictions_proper"
      ],
      "execution_count": null,
      "outputs": [
        {
          "output_type": "execute_result",
          "data": {
            "text/plain": [
              "array([1, 1, 1, 1, 1, 1, 1, 1, 1, 1, 1, 1, 1, 1, 1, 1, 1, 1, 1, 1, 1, 1,\n",
              "       1, 1, 1, 1, 1, 1, 1, 1, 1, 1, 1, 1, 1, 1, 1, 1, 1, 1, 1, 1, 1, 1,\n",
              "       1, 1, 1, 1, 1, 1, 1, 1, 1, 1, 1, 1, 1, 1, 1, 1, 1, 1, 1, 1, 1, 1,\n",
              "       1, 1, 1, 1, 1, 1, 1, 1, 1, 1, 1, 1, 1, 1, 1, 1, 1, 1, 1, 1, 1, 1,\n",
              "       1, 1, 1, 1, 1, 1, 1, 1, 1, 1, 1, 1, 1, 1, 1, 1, 1, 1, 1, 1, 1, 1,\n",
              "       1, 1, 1, 1, 1, 1, 1, 1, 1, 1, 1, 1, 1, 1, 1, 1, 1, 1, 1, 1, 1, 1,\n",
              "       1, 1, 1, 1, 1, 1, 1, 1, 1, 1, 1, 1, 1, 1, 1, 1, 1, 1, 1, 1, 1, 1,\n",
              "       1, 1, 1, 1, 1, 1, 1, 1, 1, 1, 1, 1, 1, 1, 1, 1, 1, 1, 1, 1, 1, 1,\n",
              "       1, 1, 1, 1, 1, 1, 1, 1, 1, 1, 1, 1, 1, 1, 1, 1, 1, 1, 1, 1, 1, 1,\n",
              "       1, 1, 1, 1, 1, 1, 1, 1, 1, 1, 1, 1, 1, 1, 1, 1, 1, 1, 1, 1, 1, 1,\n",
              "       1, 1, 1, 1, 1, 1, 1, 1, 1, 1, 1, 1, 1, 1, 1, 1, 1, 1, 1, 1, 1, 1,\n",
              "       1, 1, 1, 1, 1, 1, 1, 1, 1, 1, 1, 1, 1, 1, 1, 1, 1, 1, 1, 1, 1, 1,\n",
              "       1, 1, 1, 1, 1, 1, 1, 1, 1, 1, 1, 1, 1, 1, 1, 1, 1, 1, 1, 1, 1, 1,\n",
              "       1, 1, 1, 1, 1, 1, 1, 1, 1, 1, 1, 1, 1, 1, 1, 1, 1, 1, 1, 1, 1, 1,\n",
              "       1, 1, 1, 1, 1, 1, 1, 1, 1, 1, 1, 1, 1, 1, 1, 1, 1, 1, 1, 1, 1, 1,\n",
              "       1, 1, 1, 1, 1, 1, 1, 1, 1, 1, 1, 1, 1, 1, 1, 1, 1, 1, 1, 1, 1, 1,\n",
              "       1, 1, 1, 1, 1, 1, 1, 1, 1, 1, 1, 1, 1, 1, 1, 1, 1, 1, 1, 1, 1, 1,\n",
              "       1, 1, 1, 1, 1, 1, 1, 1, 1, 1, 1, 1, 1, 1, 1, 1, 1, 1, 1, 1, 1, 1,\n",
              "       1, 1, 1, 1, 1, 1, 1, 1, 1, 1, 1, 1, 1, 1, 1, 1, 1, 1, 1, 1, 1, 1,\n",
              "       1, 1, 1, 1, 1, 1, 1, 1, 1, 1, 1, 1, 1, 1, 1, 1, 1, 1, 1, 1, 1, 1,\n",
              "       1, 1, 1, 1, 1, 1, 1, 1, 1, 1, 1, 1, 1, 1, 1, 1, 1, 1, 1, 1, 1, 1,\n",
              "       1, 1, 1, 1, 1, 1, 1, 1, 1, 1, 1, 1, 1, 1, 1, 1, 1, 1, 1, 1, 1, 1,\n",
              "       1, 1, 1, 1, 1, 1, 1, 1, 1, 1, 1, 1, 1, 1, 1, 1, 1, 1, 1, 1, 1, 1,\n",
              "       1, 1, 1, 1, 1, 1, 1, 1, 1, 1, 1, 1, 1, 1, 1, 1, 1, 1, 1, 1, 1, 1,\n",
              "       1, 1, 1, 1, 1, 1, 1, 1, 1, 1, 1, 1, 1, 1, 1, 1, 1, 1, 1, 1, 1, 1,\n",
              "       1, 1, 1, 1, 1, 1, 1, 1, 1, 1, 1, 1, 1, 1, 1, 1, 1, 1, 1, 1, 1, 1,\n",
              "       1, 1, 1, 1, 1, 1, 1, 1, 1, 1, 1, 1, 1, 1, 1, 1, 1, 1, 1, 1, 1, 1,\n",
              "       1, 1, 1, 1, 1, 1, 1, 1, 1, 1, 1, 1, 1, 1, 1, 1, 1, 1, 1, 1, 1, 1,\n",
              "       1, 1, 1, 1, 1, 1, 1, 1])"
            ]
          },
          "metadata": {
            "tags": []
          },
          "execution_count": 90
        }
      ]
    },
    {
      "cell_type": "code",
      "metadata": {
        "colab": {
          "base_uri": "https://localhost:8080/"
        },
        "id": "oueq08NwvS_o",
        "outputId": "a4e520c6-b4b0-45ad-8eb1-dd540fef40a2"
      },
      "source": [
        "testing_Batches.filenames"
      ],
      "execution_count": null,
      "outputs": [
        {
          "output_type": "execute_result",
          "data": {
            "text/plain": [
              "['all_classes/5309.jpeg',\n",
              " 'all_classes/5310.jpeg',\n",
              " 'all_classes/5311.jpeg',\n",
              " 'all_classes/5312.jpeg',\n",
              " 'all_classes/5313.jpeg',\n",
              " 'all_classes/5314.jpeg',\n",
              " 'all_classes/5315.jpeg',\n",
              " 'all_classes/5316.jpeg',\n",
              " 'all_classes/5317.jpeg',\n",
              " 'all_classes/5318.jpeg',\n",
              " 'all_classes/5319.jpeg',\n",
              " 'all_classes/5320.jpeg',\n",
              " 'all_classes/5321.jpeg',\n",
              " 'all_classes/5322.jpeg',\n",
              " 'all_classes/5323.jpeg',\n",
              " 'all_classes/5324.jpeg',\n",
              " 'all_classes/5325.jpeg',\n",
              " 'all_classes/5326.jpeg',\n",
              " 'all_classes/5327.jpeg',\n",
              " 'all_classes/5328.jpeg',\n",
              " 'all_classes/5329.jpeg',\n",
              " 'all_classes/5330.jpeg',\n",
              " 'all_classes/5331.jpeg',\n",
              " 'all_classes/5332.jpeg',\n",
              " 'all_classes/5333.jpeg',\n",
              " 'all_classes/5334.jpeg',\n",
              " 'all_classes/5335.jpeg',\n",
              " 'all_classes/5336.jpeg',\n",
              " 'all_classes/5337.jpeg',\n",
              " 'all_classes/5338.jpeg',\n",
              " 'all_classes/5339.jpeg',\n",
              " 'all_classes/5340.jpeg',\n",
              " 'all_classes/5341.jpeg',\n",
              " 'all_classes/5342.jpeg',\n",
              " 'all_classes/5343.jpeg',\n",
              " 'all_classes/5344.jpeg',\n",
              " 'all_classes/5345.jpeg',\n",
              " 'all_classes/5346.jpeg',\n",
              " 'all_classes/5347.jpeg',\n",
              " 'all_classes/5348.jpeg',\n",
              " 'all_classes/5349.jpeg',\n",
              " 'all_classes/5350.jpeg',\n",
              " 'all_classes/5351.jpeg',\n",
              " 'all_classes/5352.jpeg',\n",
              " 'all_classes/5353.jpeg',\n",
              " 'all_classes/5354.jpeg',\n",
              " 'all_classes/5355.jpeg',\n",
              " 'all_classes/5356.jpeg',\n",
              " 'all_classes/5357.jpeg',\n",
              " 'all_classes/5358.jpeg',\n",
              " 'all_classes/5359.jpeg',\n",
              " 'all_classes/5360.jpeg',\n",
              " 'all_classes/5361.jpeg',\n",
              " 'all_classes/5362.jpeg',\n",
              " 'all_classes/5363.jpeg',\n",
              " 'all_classes/5364.jpeg',\n",
              " 'all_classes/5365.jpeg',\n",
              " 'all_classes/5366.jpeg',\n",
              " 'all_classes/5367.jpeg',\n",
              " 'all_classes/5368.jpeg',\n",
              " 'all_classes/5369.jpeg',\n",
              " 'all_classes/5370.jpeg',\n",
              " 'all_classes/5371.jpeg',\n",
              " 'all_classes/5372.jpeg',\n",
              " 'all_classes/5373.jpeg',\n",
              " 'all_classes/5374.jpeg',\n",
              " 'all_classes/5375.jpeg',\n",
              " 'all_classes/5376.jpeg',\n",
              " 'all_classes/5377.jpeg',\n",
              " 'all_classes/5378.jpeg',\n",
              " 'all_classes/5379.jpeg',\n",
              " 'all_classes/5380.jpeg',\n",
              " 'all_classes/5381.jpeg',\n",
              " 'all_classes/5382.jpeg',\n",
              " 'all_classes/5383.jpeg',\n",
              " 'all_classes/5384.jpeg',\n",
              " 'all_classes/5385.jpeg',\n",
              " 'all_classes/5386.jpeg',\n",
              " 'all_classes/5387.jpeg',\n",
              " 'all_classes/5388.jpeg',\n",
              " 'all_classes/5389.jpeg',\n",
              " 'all_classes/5390.jpeg',\n",
              " 'all_classes/5391.jpeg',\n",
              " 'all_classes/5392.jpeg',\n",
              " 'all_classes/5393.jpeg',\n",
              " 'all_classes/5394.jpeg',\n",
              " 'all_classes/5395.jpeg',\n",
              " 'all_classes/5396.jpeg',\n",
              " 'all_classes/5397.jpeg',\n",
              " 'all_classes/5398.jpeg',\n",
              " 'all_classes/5399.jpeg',\n",
              " 'all_classes/5400.jpeg',\n",
              " 'all_classes/5401.jpeg',\n",
              " 'all_classes/5402.jpeg',\n",
              " 'all_classes/5403.jpeg',\n",
              " 'all_classes/5404.jpeg',\n",
              " 'all_classes/5405.jpeg',\n",
              " 'all_classes/5406.jpeg',\n",
              " 'all_classes/5407.jpeg',\n",
              " 'all_classes/5408.jpeg',\n",
              " 'all_classes/5409.jpeg',\n",
              " 'all_classes/5410.jpeg',\n",
              " 'all_classes/5411.jpeg',\n",
              " 'all_classes/5412.jpeg',\n",
              " 'all_classes/5413.jpeg',\n",
              " 'all_classes/5414.jpeg',\n",
              " 'all_classes/5415.jpeg',\n",
              " 'all_classes/5416.jpeg',\n",
              " 'all_classes/5417.jpeg',\n",
              " 'all_classes/5418.jpeg',\n",
              " 'all_classes/5419.jpeg',\n",
              " 'all_classes/5420.jpeg',\n",
              " 'all_classes/5421.jpeg',\n",
              " 'all_classes/5422.jpeg',\n",
              " 'all_classes/5423.jpeg',\n",
              " 'all_classes/5424.jpeg',\n",
              " 'all_classes/5425.jpeg',\n",
              " 'all_classes/5426.jpeg',\n",
              " 'all_classes/5427.jpeg',\n",
              " 'all_classes/5428.jpeg',\n",
              " 'all_classes/5429.jpeg',\n",
              " 'all_classes/5430.jpeg',\n",
              " 'all_classes/5431.jpeg',\n",
              " 'all_classes/5432.jpeg',\n",
              " 'all_classes/5433.jpeg',\n",
              " 'all_classes/5434.jpeg',\n",
              " 'all_classes/5435.jpeg',\n",
              " 'all_classes/5436.jpeg',\n",
              " 'all_classes/5437.jpeg',\n",
              " 'all_classes/5438.jpeg',\n",
              " 'all_classes/5439.jpeg',\n",
              " 'all_classes/5440.jpeg',\n",
              " 'all_classes/5441.jpeg',\n",
              " 'all_classes/5442.jpeg',\n",
              " 'all_classes/5443.jpeg',\n",
              " 'all_classes/5444.jpeg',\n",
              " 'all_classes/5445.jpeg',\n",
              " 'all_classes/5446.jpeg',\n",
              " 'all_classes/5447.jpeg',\n",
              " 'all_classes/5448.jpeg',\n",
              " 'all_classes/5449.jpeg',\n",
              " 'all_classes/5450.jpeg',\n",
              " 'all_classes/5451.jpeg',\n",
              " 'all_classes/5452.jpeg',\n",
              " 'all_classes/5453.jpeg',\n",
              " 'all_classes/5454.jpeg',\n",
              " 'all_classes/5455.jpeg',\n",
              " 'all_classes/5456.jpeg',\n",
              " 'all_classes/5457.jpeg',\n",
              " 'all_classes/5458.jpeg',\n",
              " 'all_classes/5459.jpeg',\n",
              " 'all_classes/5460.jpeg',\n",
              " 'all_classes/5461.jpeg',\n",
              " 'all_classes/5462.jpeg',\n",
              " 'all_classes/5463.jpeg',\n",
              " 'all_classes/5464.jpeg',\n",
              " 'all_classes/5465.jpeg',\n",
              " 'all_classes/5466.jpeg',\n",
              " 'all_classes/5467.jpeg',\n",
              " 'all_classes/5468.jpeg',\n",
              " 'all_classes/5469.jpeg',\n",
              " 'all_classes/5470.jpeg',\n",
              " 'all_classes/5471.jpeg',\n",
              " 'all_classes/5472.jpeg',\n",
              " 'all_classes/5473.jpeg',\n",
              " 'all_classes/5474.jpeg',\n",
              " 'all_classes/5475.jpeg',\n",
              " 'all_classes/5476.jpeg',\n",
              " 'all_classes/5477.jpeg',\n",
              " 'all_classes/5478.jpeg',\n",
              " 'all_classes/5479.jpeg',\n",
              " 'all_classes/5480.jpeg',\n",
              " 'all_classes/5481.jpeg',\n",
              " 'all_classes/5482.jpeg',\n",
              " 'all_classes/5483.jpeg',\n",
              " 'all_classes/5484.jpeg',\n",
              " 'all_classes/5485.jpeg',\n",
              " 'all_classes/5486.jpeg',\n",
              " 'all_classes/5487.jpeg',\n",
              " 'all_classes/5488.jpeg',\n",
              " 'all_classes/5489.jpeg',\n",
              " 'all_classes/5490.jpeg',\n",
              " 'all_classes/5491.jpeg',\n",
              " 'all_classes/5492.jpeg',\n",
              " 'all_classes/5493.jpeg',\n",
              " 'all_classes/5494.jpeg',\n",
              " 'all_classes/5495.jpeg',\n",
              " 'all_classes/5496.jpeg',\n",
              " 'all_classes/5497.jpeg',\n",
              " 'all_classes/5498.jpeg',\n",
              " 'all_classes/5499.jpeg',\n",
              " 'all_classes/5500.jpeg',\n",
              " 'all_classes/5501.jpeg',\n",
              " 'all_classes/5502.jpeg',\n",
              " 'all_classes/5503.jpeg',\n",
              " 'all_classes/5504.jpeg',\n",
              " 'all_classes/5505.jpeg',\n",
              " 'all_classes/5506.jpeg',\n",
              " 'all_classes/5507.jpeg',\n",
              " 'all_classes/5508.jpeg',\n",
              " 'all_classes/5509.jpeg',\n",
              " 'all_classes/5510.jpeg',\n",
              " 'all_classes/5511.jpeg',\n",
              " 'all_classes/5512.jpeg',\n",
              " 'all_classes/5513.jpeg',\n",
              " 'all_classes/5514.jpeg',\n",
              " 'all_classes/5515.jpeg',\n",
              " 'all_classes/5516.jpeg',\n",
              " 'all_classes/5517.jpeg',\n",
              " 'all_classes/5518.jpeg',\n",
              " 'all_classes/5519.jpeg',\n",
              " 'all_classes/5520.jpeg',\n",
              " 'all_classes/5521.jpeg',\n",
              " 'all_classes/5522.jpeg',\n",
              " 'all_classes/5523.jpeg',\n",
              " 'all_classes/5524.jpeg',\n",
              " 'all_classes/5525.jpeg',\n",
              " 'all_classes/5526.jpeg',\n",
              " 'all_classes/5527.jpeg',\n",
              " 'all_classes/5528.jpeg',\n",
              " 'all_classes/5529.jpeg',\n",
              " 'all_classes/5530.jpeg',\n",
              " 'all_classes/5531.jpeg',\n",
              " 'all_classes/5532.jpeg',\n",
              " 'all_classes/5533.jpeg',\n",
              " 'all_classes/5534.jpeg',\n",
              " 'all_classes/5535.jpeg',\n",
              " 'all_classes/5536.jpeg',\n",
              " 'all_classes/5537.jpeg',\n",
              " 'all_classes/5538.jpeg',\n",
              " 'all_classes/5539.jpeg',\n",
              " 'all_classes/5540.jpeg',\n",
              " 'all_classes/5541.jpeg',\n",
              " 'all_classes/5542.jpeg',\n",
              " 'all_classes/5543.jpeg',\n",
              " 'all_classes/5544.jpeg',\n",
              " 'all_classes/5545.jpeg',\n",
              " 'all_classes/5546.jpeg',\n",
              " 'all_classes/5547.jpeg',\n",
              " 'all_classes/5548.jpeg',\n",
              " 'all_classes/5549.jpeg',\n",
              " 'all_classes/5550.jpeg',\n",
              " 'all_classes/5551.jpeg',\n",
              " 'all_classes/5552.jpeg',\n",
              " 'all_classes/5553.jpeg',\n",
              " 'all_classes/5554.jpeg',\n",
              " 'all_classes/5555.jpeg',\n",
              " 'all_classes/5556.jpeg',\n",
              " 'all_classes/5557.jpeg',\n",
              " 'all_classes/5558.jpeg',\n",
              " 'all_classes/5559.jpeg',\n",
              " 'all_classes/5560.jpeg',\n",
              " 'all_classes/5561.jpeg',\n",
              " 'all_classes/5562.jpeg',\n",
              " 'all_classes/5563.jpeg',\n",
              " 'all_classes/5564.jpeg',\n",
              " 'all_classes/5565.jpeg',\n",
              " 'all_classes/5566.jpeg',\n",
              " 'all_classes/5567.jpeg',\n",
              " 'all_classes/5568.jpeg',\n",
              " 'all_classes/5569.jpeg',\n",
              " 'all_classes/5570.jpeg',\n",
              " 'all_classes/5571.jpeg',\n",
              " 'all_classes/5572.jpeg',\n",
              " 'all_classes/5573.jpeg',\n",
              " 'all_classes/5574.jpeg',\n",
              " 'all_classes/5575.jpeg',\n",
              " 'all_classes/5576.jpeg',\n",
              " 'all_classes/5577.jpeg',\n",
              " 'all_classes/5578.jpeg',\n",
              " 'all_classes/5579.jpeg',\n",
              " 'all_classes/5580.jpeg',\n",
              " 'all_classes/5581.jpeg',\n",
              " 'all_classes/5582.jpeg',\n",
              " 'all_classes/5583.jpeg',\n",
              " 'all_classes/5584.jpeg',\n",
              " 'all_classes/5585.jpeg',\n",
              " 'all_classes/5586.jpeg',\n",
              " 'all_classes/5587.jpeg',\n",
              " 'all_classes/5588.jpeg',\n",
              " 'all_classes/5589.jpeg',\n",
              " 'all_classes/5590.jpeg',\n",
              " 'all_classes/5591.jpeg',\n",
              " 'all_classes/5592.jpeg',\n",
              " 'all_classes/5593.jpeg',\n",
              " 'all_classes/5594.jpeg',\n",
              " 'all_classes/5595.jpeg',\n",
              " 'all_classes/5596.jpeg',\n",
              " 'all_classes/5597.jpeg',\n",
              " 'all_classes/5598.jpeg',\n",
              " 'all_classes/5599.jpeg',\n",
              " 'all_classes/5600.jpeg',\n",
              " 'all_classes/5601.jpeg',\n",
              " 'all_classes/5602.jpeg',\n",
              " 'all_classes/5603.jpeg',\n",
              " 'all_classes/5604.jpeg',\n",
              " 'all_classes/5605.jpeg',\n",
              " 'all_classes/5606.jpeg',\n",
              " 'all_classes/5607.jpeg',\n",
              " 'all_classes/5608.jpeg',\n",
              " 'all_classes/5609.jpeg',\n",
              " 'all_classes/5610.jpeg',\n",
              " 'all_classes/5611.jpeg',\n",
              " 'all_classes/5612.jpeg',\n",
              " 'all_classes/5613.jpeg',\n",
              " 'all_classes/5614.jpeg',\n",
              " 'all_classes/5615.jpeg',\n",
              " 'all_classes/5616.jpeg',\n",
              " 'all_classes/5617.jpeg',\n",
              " 'all_classes/5618.jpeg',\n",
              " 'all_classes/5619.jpeg',\n",
              " 'all_classes/5620.jpeg',\n",
              " 'all_classes/5621.jpeg',\n",
              " 'all_classes/5622.jpeg',\n",
              " 'all_classes/5623.jpeg',\n",
              " 'all_classes/5624.jpeg',\n",
              " 'all_classes/5625.jpeg',\n",
              " 'all_classes/5626.jpeg',\n",
              " 'all_classes/5627.jpeg',\n",
              " 'all_classes/5628.jpeg',\n",
              " 'all_classes/5629.jpeg',\n",
              " 'all_classes/5630.jpeg',\n",
              " 'all_classes/5631.jpeg',\n",
              " 'all_classes/5632.jpeg',\n",
              " 'all_classes/5633.jpeg',\n",
              " 'all_classes/5634.jpeg',\n",
              " 'all_classes/5635.jpeg',\n",
              " 'all_classes/5636.jpeg',\n",
              " 'all_classes/5637.jpeg',\n",
              " 'all_classes/5638.jpeg',\n",
              " 'all_classes/5639.jpeg',\n",
              " 'all_classes/5640.jpeg',\n",
              " 'all_classes/5641.jpeg',\n",
              " 'all_classes/5642.jpeg',\n",
              " 'all_classes/5643.jpeg',\n",
              " 'all_classes/5644.jpeg',\n",
              " 'all_classes/5645.jpeg',\n",
              " 'all_classes/5646.jpeg',\n",
              " 'all_classes/5647.jpeg',\n",
              " 'all_classes/5648.jpeg',\n",
              " 'all_classes/5649.jpeg',\n",
              " 'all_classes/5650.jpeg',\n",
              " 'all_classes/5651.jpeg',\n",
              " 'all_classes/5652.jpeg',\n",
              " 'all_classes/5653.jpeg',\n",
              " 'all_classes/5654.jpeg',\n",
              " 'all_classes/5655.jpeg',\n",
              " 'all_classes/5656.jpeg',\n",
              " 'all_classes/5657.jpeg',\n",
              " 'all_classes/5658.jpeg',\n",
              " 'all_classes/5659.jpeg',\n",
              " 'all_classes/5660.jpeg',\n",
              " 'all_classes/5661.jpeg',\n",
              " 'all_classes/5662.jpeg',\n",
              " 'all_classes/5663.jpeg',\n",
              " 'all_classes/5664.jpeg',\n",
              " 'all_classes/5665.jpeg',\n",
              " 'all_classes/5666.jpeg',\n",
              " 'all_classes/5667.jpeg',\n",
              " 'all_classes/5668.jpeg',\n",
              " 'all_classes/5669.jpeg',\n",
              " 'all_classes/5670.jpeg',\n",
              " 'all_classes/5671.jpeg',\n",
              " 'all_classes/5672.jpeg',\n",
              " 'all_classes/5673.jpeg',\n",
              " 'all_classes/5674.jpeg',\n",
              " 'all_classes/5675.jpeg',\n",
              " 'all_classes/5676.jpeg',\n",
              " 'all_classes/5677.jpeg',\n",
              " 'all_classes/5678.jpeg',\n",
              " 'all_classes/5679.jpeg',\n",
              " 'all_classes/5680.jpeg',\n",
              " 'all_classes/5681.jpeg',\n",
              " 'all_classes/5682.jpeg',\n",
              " 'all_classes/5683.jpeg',\n",
              " 'all_classes/5684.jpeg',\n",
              " 'all_classes/5685.jpeg',\n",
              " 'all_classes/5686.jpeg',\n",
              " 'all_classes/5687.jpeg',\n",
              " 'all_classes/5688.jpeg',\n",
              " 'all_classes/5689.jpeg',\n",
              " 'all_classes/5690.jpeg',\n",
              " 'all_classes/5691.jpeg',\n",
              " 'all_classes/5692.jpeg',\n",
              " 'all_classes/5693.jpeg',\n",
              " 'all_classes/5694.jpeg',\n",
              " 'all_classes/5695.jpeg',\n",
              " 'all_classes/5696.jpeg',\n",
              " 'all_classes/5697.jpeg',\n",
              " 'all_classes/5698.jpeg',\n",
              " 'all_classes/5699.jpeg',\n",
              " 'all_classes/5700.jpeg',\n",
              " 'all_classes/5701.jpeg',\n",
              " 'all_classes/5702.jpeg',\n",
              " 'all_classes/5703.jpeg',\n",
              " 'all_classes/5704.jpeg',\n",
              " 'all_classes/5705.jpeg',\n",
              " 'all_classes/5706.jpeg',\n",
              " 'all_classes/5707.jpeg',\n",
              " 'all_classes/5708.jpeg',\n",
              " 'all_classes/5709.jpeg',\n",
              " 'all_classes/5710.jpeg',\n",
              " 'all_classes/5711.jpeg',\n",
              " 'all_classes/5712.jpeg',\n",
              " 'all_classes/5713.jpeg',\n",
              " 'all_classes/5714.jpeg',\n",
              " 'all_classes/5715.jpeg',\n",
              " 'all_classes/5716.jpeg',\n",
              " 'all_classes/5717.jpeg',\n",
              " 'all_classes/5718.jpeg',\n",
              " 'all_classes/5719.jpeg',\n",
              " 'all_classes/5720.jpeg',\n",
              " 'all_classes/5721.jpeg',\n",
              " 'all_classes/5722.jpeg',\n",
              " 'all_classes/5723.jpeg',\n",
              " 'all_classes/5724.jpeg',\n",
              " 'all_classes/5725.jpeg',\n",
              " 'all_classes/5726.jpeg',\n",
              " 'all_classes/5727.jpeg',\n",
              " 'all_classes/5728.jpeg',\n",
              " 'all_classes/5729.jpeg',\n",
              " 'all_classes/5730.jpeg',\n",
              " 'all_classes/5731.jpeg',\n",
              " 'all_classes/5732.jpeg',\n",
              " 'all_classes/5733.jpeg',\n",
              " 'all_classes/5734.jpeg',\n",
              " 'all_classes/5735.jpeg',\n",
              " 'all_classes/5736.jpeg',\n",
              " 'all_classes/5737.jpeg',\n",
              " 'all_classes/5738.jpeg',\n",
              " 'all_classes/5739.jpeg',\n",
              " 'all_classes/5740.jpeg',\n",
              " 'all_classes/5741.jpeg',\n",
              " 'all_classes/5742.jpeg',\n",
              " 'all_classes/5743.jpeg',\n",
              " 'all_classes/5744.jpeg',\n",
              " 'all_classes/5745.jpeg',\n",
              " 'all_classes/5746.jpeg',\n",
              " 'all_classes/5747.jpeg',\n",
              " 'all_classes/5748.jpeg',\n",
              " 'all_classes/5749.jpeg',\n",
              " 'all_classes/5750.jpeg',\n",
              " 'all_classes/5751.jpeg',\n",
              " 'all_classes/5752.jpeg',\n",
              " 'all_classes/5753.jpeg',\n",
              " 'all_classes/5754.jpeg',\n",
              " 'all_classes/5755.jpeg',\n",
              " 'all_classes/5756.jpeg',\n",
              " 'all_classes/5757.jpeg',\n",
              " 'all_classes/5758.jpeg',\n",
              " 'all_classes/5759.jpeg',\n",
              " 'all_classes/5760.jpeg',\n",
              " 'all_classes/5761.jpeg',\n",
              " 'all_classes/5762.jpeg',\n",
              " 'all_classes/5763.jpeg',\n",
              " 'all_classes/5764.jpeg',\n",
              " 'all_classes/5765.jpeg',\n",
              " 'all_classes/5766.jpeg',\n",
              " 'all_classes/5767.jpeg',\n",
              " 'all_classes/5768.jpeg',\n",
              " 'all_classes/5769.jpeg',\n",
              " 'all_classes/5770.jpeg',\n",
              " 'all_classes/5771.jpeg',\n",
              " 'all_classes/5772.jpeg',\n",
              " 'all_classes/5773.jpeg',\n",
              " 'all_classes/5774.jpeg',\n",
              " 'all_classes/5775.jpeg',\n",
              " 'all_classes/5776.jpeg',\n",
              " 'all_classes/5777.jpeg',\n",
              " 'all_classes/5778.jpeg',\n",
              " 'all_classes/5779.jpeg',\n",
              " 'all_classes/5780.jpeg',\n",
              " 'all_classes/5781.jpeg',\n",
              " 'all_classes/5782.jpeg',\n",
              " 'all_classes/5783.jpeg',\n",
              " 'all_classes/5784.jpeg',\n",
              " 'all_classes/5785.jpeg',\n",
              " 'all_classes/5786.jpeg',\n",
              " 'all_classes/5787.jpeg',\n",
              " 'all_classes/5788.jpeg',\n",
              " 'all_classes/5789.jpeg',\n",
              " 'all_classes/5790.jpeg',\n",
              " 'all_classes/5791.jpeg',\n",
              " 'all_classes/5792.jpeg',\n",
              " 'all_classes/5793.jpeg',\n",
              " 'all_classes/5794.jpeg',\n",
              " 'all_classes/5795.jpeg',\n",
              " 'all_classes/5796.jpeg',\n",
              " 'all_classes/5797.jpeg',\n",
              " 'all_classes/5798.jpeg',\n",
              " 'all_classes/5799.jpeg',\n",
              " 'all_classes/5800.jpeg',\n",
              " 'all_classes/5801.jpeg',\n",
              " 'all_classes/5802.jpeg',\n",
              " 'all_classes/5803.jpeg',\n",
              " 'all_classes/5804.jpeg',\n",
              " 'all_classes/5805.jpeg',\n",
              " 'all_classes/5806.jpeg',\n",
              " 'all_classes/5807.jpeg',\n",
              " 'all_classes/5808.jpeg',\n",
              " 'all_classes/5809.jpeg',\n",
              " 'all_classes/5810.jpeg',\n",
              " 'all_classes/5811.jpeg',\n",
              " 'all_classes/5812.jpeg',\n",
              " 'all_classes/5813.jpeg',\n",
              " 'all_classes/5814.jpeg',\n",
              " 'all_classes/5815.jpeg',\n",
              " 'all_classes/5816.jpeg',\n",
              " 'all_classes/5817.jpeg',\n",
              " 'all_classes/5818.jpeg',\n",
              " 'all_classes/5819.jpeg',\n",
              " 'all_classes/5820.jpeg',\n",
              " 'all_classes/5821.jpeg',\n",
              " 'all_classes/5822.jpeg',\n",
              " 'all_classes/5823.jpeg',\n",
              " 'all_classes/5824.jpeg',\n",
              " 'all_classes/5825.jpeg',\n",
              " 'all_classes/5826.jpeg',\n",
              " 'all_classes/5827.jpeg',\n",
              " 'all_classes/5828.jpeg',\n",
              " 'all_classes/5829.jpeg',\n",
              " 'all_classes/5830.jpeg',\n",
              " 'all_classes/5831.jpeg',\n",
              " 'all_classes/5832.jpeg',\n",
              " 'all_classes/5833.jpeg',\n",
              " 'all_classes/5834.jpeg',\n",
              " 'all_classes/5835.jpeg',\n",
              " 'all_classes/5836.jpeg',\n",
              " 'all_classes/5837.jpeg',\n",
              " 'all_classes/5838.jpeg',\n",
              " 'all_classes/5839.jpeg',\n",
              " 'all_classes/5840.jpeg',\n",
              " 'all_classes/5841.jpeg',\n",
              " 'all_classes/5842.jpeg',\n",
              " 'all_classes/5843.jpeg',\n",
              " 'all_classes/5844.jpeg',\n",
              " 'all_classes/5845.jpeg',\n",
              " 'all_classes/5846.jpeg',\n",
              " 'all_classes/5847.jpeg',\n",
              " 'all_classes/5848.jpeg',\n",
              " 'all_classes/5849.jpeg',\n",
              " 'all_classes/5850.jpeg',\n",
              " 'all_classes/5851.jpeg',\n",
              " 'all_classes/5852.jpeg',\n",
              " 'all_classes/5853.jpeg',\n",
              " 'all_classes/5854.jpeg',\n",
              " 'all_classes/5855.jpeg',\n",
              " 'all_classes/5856.jpeg',\n",
              " 'all_classes/5857.jpeg',\n",
              " 'all_classes/5858.jpeg',\n",
              " 'all_classes/5859.jpeg',\n",
              " 'all_classes/5860.jpeg',\n",
              " 'all_classes/5861.jpeg',\n",
              " 'all_classes/5862.jpeg',\n",
              " 'all_classes/5863.jpeg',\n",
              " 'all_classes/5864.jpeg',\n",
              " 'all_classes/5865.jpeg',\n",
              " 'all_classes/5866.jpeg',\n",
              " 'all_classes/5867.jpeg',\n",
              " 'all_classes/5868.jpeg',\n",
              " 'all_classes/5869.jpeg',\n",
              " 'all_classes/5870.jpeg',\n",
              " 'all_classes/5871.jpeg',\n",
              " 'all_classes/5872.jpeg',\n",
              " 'all_classes/5873.jpeg',\n",
              " 'all_classes/5874.jpeg',\n",
              " 'all_classes/5875.jpeg',\n",
              " 'all_classes/5876.jpeg',\n",
              " 'all_classes/5877.jpeg',\n",
              " 'all_classes/5878.jpeg',\n",
              " 'all_classes/5879.jpeg',\n",
              " 'all_classes/5880.jpeg',\n",
              " 'all_classes/5881.jpeg',\n",
              " 'all_classes/5882.jpeg',\n",
              " 'all_classes/5883.jpeg',\n",
              " 'all_classes/5884.jpeg',\n",
              " 'all_classes/5885.jpeg',\n",
              " 'all_classes/5886.jpeg',\n",
              " 'all_classes/5887.jpeg',\n",
              " 'all_classes/5888.jpeg',\n",
              " 'all_classes/5889.jpeg',\n",
              " 'all_classes/5890.jpeg',\n",
              " 'all_classes/5891.jpeg',\n",
              " 'all_classes/5892.jpeg',\n",
              " 'all_classes/5893.jpeg',\n",
              " 'all_classes/5894.jpeg',\n",
              " 'all_classes/5895.jpeg',\n",
              " 'all_classes/5896.jpeg',\n",
              " 'all_classes/5897.jpeg',\n",
              " 'all_classes/5898.jpeg',\n",
              " 'all_classes/5899.jpeg',\n",
              " 'all_classes/5900.jpeg',\n",
              " 'all_classes/5901.jpeg',\n",
              " 'all_classes/5902.jpeg',\n",
              " 'all_classes/5903.jpeg',\n",
              " 'all_classes/5904.jpeg',\n",
              " 'all_classes/5905.jpeg',\n",
              " 'all_classes/5906.jpeg',\n",
              " 'all_classes/5907.jpeg',\n",
              " 'all_classes/5908.jpeg',\n",
              " 'all_classes/5909.jpeg',\n",
              " 'all_classes/5910.jpeg',\n",
              " 'all_classes/5911.jpeg',\n",
              " 'all_classes/5912.jpeg',\n",
              " 'all_classes/5913.jpeg',\n",
              " 'all_classes/5914.jpeg',\n",
              " 'all_classes/5915.jpeg',\n",
              " 'all_classes/5916.jpeg',\n",
              " 'all_classes/5917.jpeg',\n",
              " 'all_classes/5918.jpeg',\n",
              " 'all_classes/5919.jpeg',\n",
              " 'all_classes/5920.jpeg',\n",
              " 'all_classes/5921.jpeg',\n",
              " 'all_classes/5922.jpeg',\n",
              " 'all_classes/5923.jpeg',\n",
              " 'all_classes/5924.jpeg',\n",
              " 'all_classes/5925.jpeg',\n",
              " 'all_classes/5926.jpeg',\n",
              " 'all_classes/5927.jpeg',\n",
              " 'all_classes/5928.jpeg',\n",
              " 'all_classes/5929.jpeg',\n",
              " 'all_classes/5930.jpeg',\n",
              " 'all_classes/5931.jpeg',\n",
              " 'all_classes/5932.jpeg']"
            ]
          },
          "metadata": {
            "tags": []
          },
          "execution_count": 56
        }
      ]
    },
    {
      "cell_type": "code",
      "metadata": {
        "id": "TJ7ENceKEGvO"
      },
      "source": [
        "sortedIDS = sorted(testingData.id)"
      ],
      "execution_count": null,
      "outputs": []
    },
    {
      "cell_type": "code",
      "metadata": {
        "id": "jKmJ9oh12Uk9"
      },
      "source": [
        "results = pd.DataFrame({\"id\": sortedIDS, \"type\": newPredfixed})\n",
        "results = results.sort_values(by = [\"id\"])"
      ],
      "execution_count": null,
      "outputs": []
    },
    {
      "cell_type": "code",
      "metadata": {
        "colab": {
          "base_uri": "https://localhost:8080/"
        },
        "id": "CWKpb3OIyta6",
        "outputId": "6538d445-6aeb-4696-a05c-5c85edc1fcfc"
      },
      "source": [
        "test = sorted(results.id)\n",
        "test1 = results.id\n",
        "print(test)"
      ],
      "execution_count": null,
      "outputs": [
        {
          "output_type": "stream",
          "text": [
            "[5309, 5310, 5311, 5312, 5313, 5314, 5315, 5316, 5317, 5318, 5319, 5320, 5321, 5322, 5323, 5324, 5325, 5326, 5327, 5328, 5329, 5330, 5331, 5332, 5333, 5334, 5335, 5336, 5337, 5338, 5339, 5340, 5341, 5342, 5343, 5344, 5345, 5346, 5347, 5348, 5349, 5350, 5351, 5352, 5353, 5354, 5355, 5356, 5357, 5358, 5359, 5360, 5361, 5362, 5363, 5364, 5365, 5366, 5367, 5368, 5369, 5370, 5371, 5372, 5373, 5374, 5375, 5376, 5377, 5378, 5379, 5380, 5381, 5382, 5383, 5384, 5385, 5386, 5387, 5388, 5389, 5390, 5391, 5392, 5393, 5394, 5395, 5396, 5397, 5398, 5399, 5400, 5401, 5402, 5403, 5404, 5405, 5406, 5407, 5408, 5409, 5410, 5411, 5412, 5413, 5414, 5415, 5416, 5417, 5418, 5419, 5420, 5421, 5422, 5423, 5424, 5425, 5426, 5427, 5428, 5429, 5430, 5431, 5432, 5433, 5434, 5435, 5436, 5437, 5438, 5439, 5440, 5441, 5442, 5443, 5444, 5445, 5446, 5447, 5448, 5449, 5450, 5451, 5452, 5453, 5454, 5455, 5456, 5457, 5458, 5459, 5460, 5461, 5462, 5463, 5464, 5465, 5466, 5467, 5468, 5469, 5470, 5471, 5472, 5473, 5474, 5475, 5476, 5477, 5478, 5479, 5480, 5481, 5482, 5483, 5484, 5485, 5486, 5487, 5488, 5489, 5490, 5491, 5492, 5493, 5494, 5495, 5496, 5497, 5498, 5499, 5500, 5501, 5502, 5503, 5504, 5505, 5506, 5507, 5508, 5509, 5510, 5511, 5512, 5513, 5514, 5515, 5516, 5517, 5518, 5519, 5520, 5521, 5522, 5523, 5524, 5525, 5526, 5527, 5528, 5529, 5530, 5531, 5532, 5533, 5534, 5535, 5536, 5537, 5538, 5539, 5540, 5541, 5542, 5543, 5544, 5545, 5546, 5547, 5548, 5549, 5550, 5551, 5552, 5553, 5554, 5555, 5556, 5557, 5558, 5559, 5560, 5561, 5562, 5563, 5564, 5565, 5566, 5567, 5568, 5569, 5570, 5571, 5572, 5573, 5574, 5575, 5576, 5577, 5578, 5579, 5580, 5581, 5582, 5583, 5584, 5585, 5586, 5587, 5588, 5589, 5590, 5591, 5592, 5593, 5594, 5595, 5596, 5597, 5598, 5599, 5600, 5601, 5602, 5603, 5604, 5605, 5606, 5607, 5608, 5609, 5610, 5611, 5612, 5613, 5614, 5615, 5616, 5617, 5618, 5619, 5620, 5621, 5622, 5623, 5624, 5625, 5626, 5627, 5628, 5629, 5630, 5631, 5632, 5633, 5634, 5635, 5636, 5637, 5638, 5639, 5640, 5641, 5642, 5643, 5644, 5645, 5646, 5647, 5648, 5649, 5650, 5651, 5652, 5653, 5654, 5655, 5656, 5657, 5658, 5659, 5660, 5661, 5662, 5663, 5664, 5665, 5666, 5667, 5668, 5669, 5670, 5671, 5672, 5673, 5674, 5675, 5676, 5677, 5678, 5679, 5680, 5681, 5682, 5683, 5684, 5685, 5686, 5687, 5688, 5689, 5690, 5691, 5692, 5693, 5694, 5695, 5696, 5697, 5698, 5699, 5700, 5701, 5702, 5703, 5704, 5705, 5706, 5707, 5708, 5709, 5710, 5711, 5712, 5713, 5714, 5715, 5716, 5717, 5718, 5719, 5720, 5721, 5722, 5723, 5724, 5725, 5726, 5727, 5728, 5729, 5730, 5731, 5732, 5733, 5734, 5735, 5736, 5737, 5738, 5739, 5740, 5741, 5742, 5743, 5744, 5745, 5746, 5747, 5748, 5749, 5750, 5751, 5752, 5753, 5754, 5755, 5756, 5757, 5758, 5759, 5760, 5761, 5762, 5763, 5764, 5765, 5766, 5767, 5768, 5769, 5770, 5771, 5772, 5773, 5774, 5775, 5776, 5777, 5778, 5779, 5780, 5781, 5782, 5783, 5784, 5785, 5786, 5787, 5788, 5789, 5790, 5791, 5792, 5793, 5794, 5795, 5796, 5797, 5798, 5799, 5800, 5801, 5802, 5803, 5804, 5805, 5806, 5807, 5808, 5809, 5810, 5811, 5812, 5813, 5814, 5815, 5816, 5817, 5818, 5819, 5820, 5821, 5822, 5823, 5824, 5825, 5826, 5827, 5828, 5829, 5830, 5831, 5832, 5833, 5834, 5835, 5836, 5837, 5838, 5839, 5840, 5841, 5842, 5843, 5844, 5845, 5846, 5847, 5848, 5849, 5850, 5851, 5852, 5853, 5854, 5855, 5856, 5857, 5858, 5859, 5860, 5861, 5862, 5863, 5864, 5865, 5866, 5867, 5868, 5869, 5870, 5871, 5872, 5873, 5874, 5875, 5876, 5877, 5878, 5879, 5880, 5881, 5882, 5883, 5884, 5885, 5886, 5887, 5888, 5889, 5890, 5891, 5892, 5893, 5894, 5895, 5896, 5897, 5898, 5899, 5900, 5901, 5902, 5903, 5904, 5905, 5906, 5907, 5908, 5909, 5910, 5911, 5912, 5913, 5914, 5915, 5916, 5917, 5918, 5919, 5920, 5921, 5922, 5923, 5924, 5925, 5926, 5927, 5928, 5929, 5930, 5931, 5932]\n"
          ],
          "name": "stdout"
        }
      ]
    },
    {
      "cell_type": "code",
      "metadata": {
        "colab": {
          "base_uri": "https://localhost:8080/"
        },
        "id": "_tUdVHSTzUf1",
        "outputId": "f25c7478-4f9d-4e46-dd3d-bb9dd52f577e"
      },
      "source": [
        "print(test1)"
      ],
      "execution_count": null,
      "outputs": [
        {
          "output_type": "stream",
          "text": [
            "0      5309\n",
            "1      5310\n",
            "2      5311\n",
            "3      5312\n",
            "4      5313\n",
            "       ... \n",
            "619    5928\n",
            "620    5929\n",
            "621    5930\n",
            "622    5931\n",
            "623    5932\n",
            "Name: id, Length: 624, dtype: int64\n"
          ],
          "name": "stdout"
        }
      ]
    },
    {
      "cell_type": "code",
      "metadata": {
        "id": "mvTqPgYF4Jsc"
      },
      "source": [
        "results.to_csv(\"codys_submission_as5.csv\", index = False)"
      ],
      "execution_count": null,
      "outputs": []
    },
    {
      "cell_type": "markdown",
      "source": [
        "**Final Accuracy  Score: 91.185%**"
      ],
      "metadata": {
        "id": "jv0s8TGiD49o"
      }
    },
    {
      "cell_type": "markdown",
      "source": [
        "Signing off  \n",
        "-Cody"
      ],
      "metadata": {
        "id": "zA9YjQr9EESl"
      }
    }
  ]
}